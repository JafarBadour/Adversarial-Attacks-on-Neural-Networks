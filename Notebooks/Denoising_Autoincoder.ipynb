{
 "nbformat": 4,
 "nbformat_minor": 0,
 "metadata": {
  "colab": {
   "name": "Denoising Autoincoder.ipynb",
   "provenance": [],
   "collapsed_sections": []
  },
  "kernelspec": {
   "display_name": "Python 3",
   "language": "python",
   "name": "python3"
  },
  "language_info": {
   "codemirror_mode": {
    "name": "ipython",
    "version": 3
   },
   "file_extension": ".py",
   "mimetype": "text/x-python",
   "name": "python",
   "nbconvert_exporter": "python",
   "pygments_lexer": "ipython3",
   "version": "3.7.4"
  },
  "accelerator": "GPU"
 },
 "cells": [
  {
   "cell_type": "code",
   "metadata": {
    "id": "iPUF7ampvMNK",
    "colab_type": "code",
    "colab": {
     "base_uri": "https://localhost:8080/",
     "height": 34
    },
    "outputId": "53af2880-1842-4141-c1ee-be9ba47de7de"
   },
   "source": [
    "\n",
    "from google.colab import drive\n",
    "drive.mount('/content/gdrive/') \n"
   ],
   "execution_count": 6,
   "outputs": [
    {
     "output_type": "stream",
     "text": [
      "Drive already mounted at /content/gdrive/; to attempt to forcibly remount, call drive.mount(\"/content/gdrive/\", force_remount=True).\n"
     ],
     "name": "stdout"
    }
   ]
  },
  {
   "cell_type": "markdown",
   "metadata": {
    "id": "ODk4MIOR7NyO",
    "colab_type": "text"
   },
   "source": [
    "# Dnoising Autoencoder\n",
    "\n",
    "First lets get the utils necessary code from the git repo"
   ]
  },
  {
   "cell_type": "code",
   "metadata": {
    "id": "F7j9u8wevOAp",
    "colab_type": "code",
    "colab": {
     "base_uri": "https://localhost:8080/",
     "height": 34
    },
    "outputId": "3dfb3927-2752-4dd0-8a7d-7496d7b8f7e1"
   },
   "source": [
    "%cd gdrive/My\\ Drive/ColabFiles/AdversarialAttacks/"
   ],
   "execution_count": 2,
   "outputs": [
    {
     "output_type": "stream",
     "text": [
      "/content/gdrive/My Drive/ColabFiles/AdversarialAttacks\n"
     ],
     "name": "stdout"
    }
   ]
  },
  {
   "cell_type": "code",
   "metadata": {
    "id": "Ouv9KiDTtUi6",
    "colab_type": "code",
    "colab": {
     "base_uri": "https://localhost:8080/",
     "height": 51
    },
    "outputId": "ec7ad44c-513d-40c1-e321-bc27c42f1916"
   },
   "source": [
    "!git clone https://github.com/JafarBadour/Adversarial-Attacks-on-Neural-Networks.git .\n",
    "!git pull"
   ],
   "execution_count": 3,
   "outputs": [
    {
     "output_type": "stream",
     "text": [
      "fatal: destination path '.' already exists and is not an empty directory.\n",
      "Already up to date.\n"
     ],
     "name": "stdout"
    }
   ]
  },
  {
   "cell_type": "code",
   "metadata": {
    "id": "Bklew53vsBtf",
    "colab_type": "code",
    "colab": {
     "base_uri": "https://localhost:8080/",
     "height": 34
    },
    "outputId": "4d5180b4-9355-44a3-d813-70c6c41ade88"
   },
   "source": [
    "!ls -a"
   ],
   "execution_count": 4,
   "outputs": [
    {
     "output_type": "stream",
     "text": [
      "\u001B[0m\u001B[01;34m.git\u001B[0m/  .gitignore  \u001B[01;34mModels\u001B[0m/  \u001B[01;34mNotebooks\u001B[0m/  \u001B[01;34mutils\u001B[0m/\n"
     ],
     "name": "stdout"
    }
   ]
  },
  {
   "cell_type": "markdown",
   "metadata": {
    "id": "kAxx3sXj7WkF",
    "colab_type": "text"
   },
   "source": [
    "# Normalization \n",
    "\n",
    "\n",
    "map all pixels to 0,1 range\n"
   ]
  },
  {
   "cell_type": "code",
   "metadata": {
    "colab_type": "code",
    "id": "TdG57JZicZqh",
    "colab": {}
   },
   "source": [
    "import tensorflow as tf\n",
    "from tensorflow import keras"
   ],
   "execution_count": 1,
   "outputs": []
  },
  {
   "cell_type": "code",
   "metadata": {
    "id": "ICtUUcv1etWR",
    "colab_type": "code",
    "colab": {
     "base_uri": "https://localhost:8080/",
     "height": 34
    },
    "outputId": "73d2acd4-690d-404c-f829-db64199732f3"
   },
   "source": [
    "tf.__version__"
   ],
   "execution_count": 2,
   "outputs": [
    {
     "data": {
      "text/plain": "'2.1.0'"
     },
     "execution_count": 2,
     "metadata": {},
     "output_type": "execute_result"
    }
   ]
  },
  {
   "cell_type": "code",
   "metadata": {
    "colab_type": "code",
    "id": "rxzSeSMYcVEZ",
    "colab": {}
   },
   "source": [
    "fashion_mnist = keras.datasets.fashion_mnist\n",
    "(train_images, train_labels), (test_images, test_labels) = fashion_mnist.load_data()\n",
    "train_images = train_images.reshape(len(train_images),28,28,1)\n",
    "test_images = test_images.reshape(len(test_images),28,28,1)\n",
    "train_images = train_images/255\n",
    "test_images = test_images/255"
   ],
   "execution_count": 3,
   "outputs": []
  },
  {
   "cell_type": "code",
   "metadata": {
    "colab_type": "code",
    "id": "wTwORMe6cmz8",
    "outputId": "abb321a4-b4fe-4e35-8f6d-aabbf73b14bc",
    "colab": {
     "base_uri": "https://localhost:8080/",
     "height": 34
    },
    "pycharm": {
     "name": "#%%\n"
    }
   },
   "source": [
    "print(train_images.shape)"
   ],
   "execution_count": 9,
   "outputs": [
    {
     "output_type": "stream",
     "text": [
      "(60000, 28, 28, 1)\n"
     ],
     "name": "stdout"
    }
   ]
  },
  {
   "cell_type": "markdown",
   "metadata": {
    "id": "GPvaUCM4Wyz1",
    "colab_type": "text",
    "pycharm": {
     "name": "#%% md\n"
    }
   },
   "source": [
    "# Denoising Autoencoder structure\n",
    "\n",
    "Added dropout layer to reduce overfitting it is visible in the graph of loss"
   ]
  },
  {
   "cell_type": "code",
   "metadata": {
    "colab_type": "code",
    "id": "oGpuvNC7c6UH",
    "colab": {}
   },
   "source": [
    "from keras.layers import Input, Dense, Conv2D, MaxPool2D, Flatten, Deconvolution2D, UpSampling2D, Dropout\n",
    "from keras.models import Model\n",
    "\n",
    "inputs = Input(shape=(28,28,1))\n",
    "conv1 = Conv2D(filters=20,kernel_size=(3,3), activation='relu', padding='same') (inputs)\n",
    "max1 = MaxPool2D((2,2)) (conv1)\n",
    "\n",
    "drop = Dropout(rate=0.05) (max1)\n",
    "\n",
    "conv2 = Conv2D(filters=20,kernel_size=(3,3), activation='relu', padding='same') (drop)\n",
    "max2 = MaxPool2D((2,2)) (conv2)\n",
    "conv3 = Conv2D(filters=1,kernel_size=(3,3),padding='same',activation='relu') (max2)\n",
    "\n",
    "deconv3 = Deconvolution2D(filters=1,kernel_size=(3,3),padding='same',activation='relu') (conv3)\n",
    "\n",
    "upsampling1 = UpSampling2D((2,2)) (deconv3)\n",
    "deconv2 = Deconvolution2D(filters=20, kernel_size=(3,3), activation='relu', padding='same') (upsampling1)\n",
    "upsampling2 = UpSampling2D((2,2)) (deconv2)\n",
    "\n",
    "#deconv2 = Deconvolution2D(filters=20,kernel_size=(3,3), activation='relu') (upsampling1)\n",
    "inv_input =  Deconvolution2D(filters=1, kernel_size= (3, 3), activation='relu', padding='same') (upsampling2) # probably you will have a problem with padding\n",
    "encoder = Model(inputs, conv3)\n",
    "denoising_autoencoder = Model(inputs, inv_input)\n",
    "\n",
    "denoising_autoencoder.compile(optimizer='adam',loss='mean_squared_error', metrics=['acc'])"
   ],
   "execution_count": 0,
   "outputs": []
  },
  {
   "cell_type": "code",
   "metadata": {
    "colab_type": "code",
    "id": "fH3AWob1h_IM",
    "outputId": "6567f5c6-7c3d-43a1-d740-a39f47813f8b",
    "colab": {
     "base_uri": "https://localhost:8080/",
     "height": 561
    }
   },
   "source": [
    "denoising_autoencoder.summary()\n"
   ],
   "execution_count": 12,
   "outputs": [
    {
     "output_type": "stream",
     "text": [
      "Model: \"model_4\"\n",
      "_________________________________________________________________\n",
      "Layer (type)                 Output Shape              Param #   \n",
      "=================================================================\n",
      "input_2 (InputLayer)         (None, 28, 28, 1)         0         \n",
      "_________________________________________________________________\n",
      "conv2d_4 (Conv2D)            (None, 28, 28, 20)        200       \n",
      "_________________________________________________________________\n",
      "max_pooling2d_3 (MaxPooling2 (None, 14, 14, 20)        0         \n",
      "_________________________________________________________________\n",
      "dropout_2 (Dropout)          (None, 14, 14, 20)        0         \n",
      "_________________________________________________________________\n",
      "conv2d_5 (Conv2D)            (None, 14, 14, 20)        3620      \n",
      "_________________________________________________________________\n",
      "max_pooling2d_4 (MaxPooling2 (None, 7, 7, 20)          0         \n",
      "_________________________________________________________________\n",
      "conv2d_6 (Conv2D)            (None, 7, 7, 1)           181       \n",
      "_________________________________________________________________\n",
      "conv2d_transpose_4 (Conv2DTr (None, 7, 7, 1)           10        \n",
      "_________________________________________________________________\n",
      "up_sampling2d_3 (UpSampling2 (None, 14, 14, 1)         0         \n",
      "_________________________________________________________________\n",
      "conv2d_transpose_5 (Conv2DTr (None, 14, 14, 20)        200       \n",
      "_________________________________________________________________\n",
      "up_sampling2d_4 (UpSampling2 (None, 28, 28, 20)        0         \n",
      "_________________________________________________________________\n",
      "conv2d_transpose_6 (Conv2DTr (None, 28, 28, 1)         181       \n",
      "=================================================================\n",
      "Total params: 4,392\n",
      "Trainable params: 4,392\n",
      "Non-trainable params: 0\n",
      "_________________________________________________________________\n"
     ],
     "name": "stdout"
    }
   ]
  },
  {
   "cell_type": "code",
   "metadata": {
    "colab_type": "code",
    "id": "6cK9Mjd6jJ2e",
    "outputId": "4da870ae-1b6c-4b59-8783-754407181a4b",
    "colab": {
     "base_uri": "https://localhost:8080/",
     "height": 374
    }
   },
   "source": [
    "history = denoising_autoencoder.fit(x=train_images,y=train_images,validation_data=(test_images, test_images), epochs=10)"
   ],
   "execution_count": 13,
   "outputs": [
    {
     "output_type": "stream",
     "text": [
      "Train on 60000 samples, validate on 10000 samples\n",
      "Epoch 1/10\n",
      "60000/60000 [==============================] - 12s 196us/step - loss: 0.0278 - acc: 0.5047 - val_loss: 0.0170 - val_acc: 0.5040\n",
      "Epoch 2/10\n",
      "60000/60000 [==============================] - 9s 156us/step - loss: 0.0164 - acc: 0.5063 - val_loss: 0.0156 - val_acc: 0.5041\n",
      "Epoch 3/10\n",
      "60000/60000 [==============================] - 10s 163us/step - loss: 0.0154 - acc: 0.5065 - val_loss: 0.0152 - val_acc: 0.5039\n",
      "Epoch 4/10\n",
      "60000/60000 [==============================] - 10s 159us/step - loss: 0.0149 - acc: 0.5065 - val_loss: 0.0149 - val_acc: 0.5046\n",
      "Epoch 5/10\n",
      "60000/60000 [==============================] - 10s 164us/step - loss: 0.0147 - acc: 0.5065 - val_loss: 0.0144 - val_acc: 0.5044\n",
      "Epoch 6/10\n",
      "60000/60000 [==============================] - 9s 151us/step - loss: 0.0145 - acc: 0.5065 - val_loss: 0.0143 - val_acc: 0.5043\n",
      "Epoch 7/10\n",
      "60000/60000 [==============================] - 9s 154us/step - loss: 0.0143 - acc: 0.5065 - val_loss: 0.0141 - val_acc: 0.5043\n",
      "Epoch 8/10\n",
      "60000/60000 [==============================] - 9s 157us/step - loss: 0.0142 - acc: 0.5066 - val_loss: 0.0140 - val_acc: 0.5045\n",
      "Epoch 9/10\n",
      "60000/60000 [==============================] - 9s 154us/step - loss: 0.0141 - acc: 0.5066 - val_loss: 0.0139 - val_acc: 0.5044\n",
      "Epoch 10/10\n",
      "60000/60000 [==============================] - 9s 156us/step - loss: 0.0141 - acc: 0.5066 - val_loss: 0.0138 - val_acc: 0.5045\n"
     ],
     "name": "stdout"
    }
   ]
  },
  {
   "cell_type": "code",
   "metadata": {
    "id": "Byv_H7KxyZnh",
    "colab_type": "code",
    "colab": {
     "base_uri": "https://localhost:8080/",
     "height": 458
    },
    "outputId": "3400b935-edd2-4907-9eda-5a64390a3ec0"
   },
   "source": [
    "# Plot history: MAE\n",
    "\n",
    "import matplotlib.pyplot as plt\n",
    "def plot_history(history):\n",
    "  plt.rcParams[\"figure.figsize\"] = (15,7)\n",
    "  plt.plot(history.history['loss'], label='loss (training data)')\n",
    "  plt.plot(history.history['val_loss'], label='loss testing data')\n",
    "\n",
    "  plt.plot(history.history['acc'], label='acc training data')\n",
    "  plt.plot(history.history['val_acc'], label='acc testing data')\n",
    "  plt.title('Loss denoising autoencoder')\n",
    "  plt.ylabel('MSE')\n",
    "  plt.xlabel('No. epoch')\n",
    "  plt.legend(loc=\"upper left\")\n",
    "  plt.show()\n",
    "\n",
    "plot_history(history)"
   ],
   "execution_count": 14,
   "outputs": [
    {
     "output_type": "display_data",
     "data": {
      "image/png": "[encoded data removed]",
      "text/plain": [
       "<Figure size 1080x504 with 1 Axes>"
      ]
     },
     "metadata": {
      "tags": [],
      "needs_background": "light"
     }
    }
   ]
  },
  {
   "cell_type": "code",
   "metadata": {
    "id": "cEgS1T3cuwM-",
    "colab_type": "code",
    "colab": {}
   },
   "source": [
    "denoising_autoencoder.save('./Models/DAE.h5')\n",
    "DAE = keras.models.load_model('./Models/DAE.h5')"
   ],
   "execution_count": 0,
   "outputs": []
  },
  {
   "cell_type": "code",
   "metadata": {
    "id": "MpipnSGms7G0",
    "colab_type": "code",
    "colab": {
     "base_uri": "https://localhost:8080/",
     "height": 187
    },
    "outputId": "e56fa211-d427-485f-eee4-b28137cb3818"
   },
   "source": [
    "from utils.plot import plot_n_images\n",
    "original = train_images[0]\n",
    "denoised = denoising_autoencoder.predict(train_images)[0]\n",
    "perturb = original - denoised\n",
    "plot_n_images([original, denoised, perturb])\n",
    "\n"
   ],
   "execution_count": 18,
   "outputs": [
    {
     "output_type": "display_data",
     "data": {
      "image/png": "[encoded data removed]",
      "text/plain": [
       "<Figure size 1080x360 with 3 Axes>"
      ]
     },
     "metadata": {
      "tags": [],
      "needs_background": "light"
     }
    }
   ]
  },
  {
   "cell_type": "code",
   "metadata": {
    "id": "c3fU5mietGu-",
    "colab_type": "code",
    "colab": {
     "base_uri": "https://localhost:8080/",
     "height": 425
    },
    "outputId": "50052aac-2978-4e61-c778-e9fd0a2eb4d4"
   },
   "source": [
    "input_layer= Input(shape=(28,28,1))\n",
    "x = input_layer\n",
    "for layer in denoising_autoencoder.layers[1:8]:\n",
    "  x = layer(x)\n",
    "encoder= Model(input_layer, x)\n",
    "encoder.summary()\n",
    "encoder.save('./Models/encoder.h5')"
   ],
   "execution_count": 49,
   "outputs": [
    {
     "output_type": "stream",
     "text": [
      "Model: \"model_14\"\n",
      "_________________________________________________________________\n",
      "Layer (type)                 Output Shape              Param #   \n",
      "=================================================================\n",
      "input_13 (InputLayer)        (None, 28, 28, 1)         0         \n",
      "_________________________________________________________________\n",
      "conv2d_4 (Conv2D)            multiple                  200       \n",
      "_________________________________________________________________\n",
      "max_pooling2d_3 (MaxPooling2 multiple                  0         \n",
      "_________________________________________________________________\n",
      "dropout_2 (Dropout)          multiple                  0         \n",
      "_________________________________________________________________\n",
      "conv2d_5 (Conv2D)            multiple                  3620      \n",
      "_________________________________________________________________\n",
      "max_pooling2d_4 (MaxPooling2 multiple                  0         \n",
      "_________________________________________________________________\n",
      "conv2d_6 (Conv2D)            multiple                  181       \n",
      "_________________________________________________________________\n",
      "conv2d_transpose_4 (Conv2DTr multiple                  10        \n",
      "=================================================================\n",
      "Total params: 4,011\n",
      "Trainable params: 4,011\n",
      "Non-trainable params: 0\n",
      "_________________________________________________________________\n"
     ],
     "name": "stdout"
    }
   ]
  },
  {
   "cell_type": "code",
   "metadata": {
    "id": "KqFNmd2FpGjg",
    "colab_type": "code",
    "colab": {
     "base_uri": "https://localhost:8080/",
     "height": 34
    },
    "outputId": "25943d61-eb05-4331-ac05-6078c45a8eae"
   },
   "source": [
    "print(DAE.layers[0], denoising_autoencoder.layers[0])"
   ],
   "execution_count": 39,
   "outputs": [
    {
     "output_type": "stream",
     "text": [
      "<tensorflow.python.keras.engine.input_layer.InputLayer object at 0x7f173b533828> <keras.engine.input_layer.InputLayer object at 0x7f17337ee9b0>\n"
     ],
     "name": "stdout"
    }
   ]
  },
  {
   "cell_type": "code",
   "metadata": {
    "id": "r6Oy9XwYmjqI",
    "colab_type": "code",
    "colab": {
     "base_uri": "https://localhost:8080/",
     "height": 442
    },
    "outputId": "2c0e9e51-e058-475c-953d-9aa25d050b36"
   },
   "source": [
    "enc = keras.models.load_model('./Models/encoder.h5')\n",
    "enc.summary()"
   ],
   "execution_count": 50,
   "outputs": [
    {
     "output_type": "stream",
     "text": [
      "WARNING:tensorflow:No training configuration found in the save file, so the model was *not* compiled. Compile it manually.\n",
      "Model: \"model_14\"\n",
      "_________________________________________________________________\n",
      "Layer (type)                 Output Shape              Param #   \n",
      "=================================================================\n",
      "input_13 (InputLayer)        [(None, 28, 28, 1)]       0         \n",
      "_________________________________________________________________\n",
      "conv2d_4 (Conv2D)            (None, 28, 28, 20)        200       \n",
      "_________________________________________________________________\n",
      "max_pooling2d_3 (MaxPooling2 (None, 14, 14, 20)        0         \n",
      "_________________________________________________________________\n",
      "dropout_2 (Dropout)          (None, 14, 14, 20)        0         \n",
      "_________________________________________________________________\n",
      "conv2d_5 (Conv2D)            (None, 14, 14, 20)        3620      \n",
      "_________________________________________________________________\n",
      "max_pooling2d_4 (MaxPooling2 (None, 7, 7, 20)          0         \n",
      "_________________________________________________________________\n",
      "conv2d_6 (Conv2D)            (None, 7, 7, 1)           181       \n",
      "_________________________________________________________________\n",
      "conv2d_transpose_4 (Conv2DTr (None, 7, 7, 1)           10        \n",
      "=================================================================\n",
      "Total params: 4,011\n",
      "Trainable params: 4,011\n",
      "Non-trainable params: 0\n",
      "_________________________________________________________________\n"
     ],
     "name": "stdout"
    }
   ]
  },
  {
   "cell_type": "code",
   "metadata": {
    "pycharm": {
     "name": "#%%\n"
    },
    "id": "1q3yOhGbiM87",
    "colab_type": "code",
    "colab": {
     "base_uri": "https://localhost:8080/",
     "height": 85
    },
    "outputId": "d4283921-726b-47b8-e62d-8571aba8f7a4"
   },
   "source": [
    "\n",
    "# for layer in denoising_autoencoder.layers[8:]:\n",
    "#   print(layer.input_shape)\n",
    "\n",
    "decoder_input = Input(shape=(28,28,1))\n",
    "x = decoder_input\n",
    "for layer in denoising_autoencoder.layers[8:]:\n",
    "  print(layer)\n",
    "  x = layer(x)\n",
    "\n",
    "decoder = Model(decoder_input, x)\n"
   ],
   "execution_count": 29,
   "outputs": [
    {
     "output_type": "stream",
     "text": [
      "<keras.layers.convolutional.UpSampling2D object at 0x7f1733782c88>\n",
      "<keras.layers.convolutional.Conv2DTranspose object at 0x7f1733782d30>\n",
      "<keras.layers.convolutional.UpSampling2D object at 0x7f1733782f60>\n",
      "<keras.layers.convolutional.Conv2DTranspose object at 0x7f1733793da0>\n"
     ],
     "name": "stdout"
    }
   ]
  },
  {
   "cell_type": "code",
   "metadata": {
    "id": "7il26veh_N2g",
    "colab_type": "code",
    "colab": {}
   },
   "source": [
    "decoder.save('./Models/decoder.h5')"
   ],
   "execution_count": 0,
   "outputs": []
  },
  {
   "cell_type": "code",
   "metadata": {
    "id": "yV7iiThzoAP8",
    "colab_type": "code",
    "colab": {
     "base_uri": "https://localhost:8080/",
     "height": 323
    },
    "outputId": "d38e390a-f2a2-4281-c968-bc04664484e6"
   },
   "source": [
    "decoder.summary()"
   ],
   "execution_count": 31,
   "outputs": [
    {
     "output_type": "stream",
     "text": [
      "Model: \"model_8\"\n",
      "_________________________________________________________________\n",
      "Layer (type)                 Output Shape              Param #   \n",
      "=================================================================\n",
      "input_6 (InputLayer)         (None, 28, 28, 1)         0         \n",
      "_________________________________________________________________\n",
      "up_sampling2d_3 (UpSampling2 multiple                  0         \n",
      "_________________________________________________________________\n",
      "conv2d_transpose_5 (Conv2DTr multiple                  200       \n",
      "_________________________________________________________________\n",
      "up_sampling2d_4 (UpSampling2 multiple                  0         \n",
      "_________________________________________________________________\n",
      "conv2d_transpose_6 (Conv2DTr multiple                  181       \n",
      "=================================================================\n",
      "Total params: 381\n",
      "Trainable params: 381\n",
      "Non-trainable params: 0\n",
      "_________________________________________________________________\n"
     ],
     "name": "stdout"
    }
   ]
  },
  {
   "cell_type": "code",
   "metadata": {
    "id": "HdmYIQNvhO3o",
    "colab_type": "code",
    "colab": {
     "base_uri": "https://localhost:8080/",
     "height": 51
    },
    "outputId": "211892ac-a127-4e84-edaa-dea04a976aa4"
   },
   "source": [
    "import tensorflow as tf\n",
    "from keras.models import load_model\n",
    "\n",
    "mdd = load_model('./Models/decoder.h5')"
   ],
   "execution_count": 20,
   "outputs": [
    {
     "output_type": "stream",
     "text": [
      "/usr/local/lib/python3.6/dist-packages/keras/engine/saving.py:341: UserWarning: No training configuration found in save file: the model was *not* compiled. Compile it manually.\n",
      "  warnings.warn('No training configuration found in save file: '\n"
     ],
     "name": "stderr"
    }
   ]
  },
  {
   "cell_type": "markdown",
   "metadata": {
    "id": "2esqxcZiW6RX",
    "colab_type": "text",
    "pycharm": {
     "name": "#%% md\n"
    }
   },
   "source": [
    "# Model_1, Model_2\n",
    "\n",
    "add two models model_1:\n",
    "\n",
    "this one will take the layers of the denoisingencoder as an encoder and then will have two dense layers \n",
    "\n",
    "\n",
    "model_2:\n",
    "\n",
    "will take the encoder of the denoising autoencoder as its own encoder and then add two layers of dense \n",
    "\n",
    "\n",
    "The main purpose for later is to experiment on such approach to build robust neural networks"
   ]
  },
  {
   "cell_type": "code",
   "metadata": {
    "id": "caVYLbaM6RRR",
    "colab_type": "code",
    "colab": {
     "base_uri": "https://localhost:8080/",
     "height": 153
    },
    "outputId": "3d3f52b7-b051-49b4-8997-8621b9ce5a68"
   },
   "source": [
    "!ls -al Models"
   ],
   "execution_count": 40,
   "outputs": [
    {
     "output_type": "stream",
     "text": [
      "total 8854\n",
      "drwx------ 2 root root    4096 Apr 25 18:23 DAE\n",
      "-rw------- 1 root root  105216 Apr 25 18:23 DAE.h\n",
      "-rw------- 1 root root  105288 Apr 25 18:40 DAE.h5\n",
      "-rw------- 1 root root   17168 Apr 25 18:36 decoder.h5\n",
      "-rw------- 1 root root 4323016 Apr 25 13:56 denoising_autoencoder_ann.h5\n",
      "-rw------- 1 root root 4466608 Apr 25 13:50 encoder_ann.h5\n",
      "-rw------- 1 root root   43176 Apr 25 18:40 encoder.h5\n"
     ],
     "name": "stdout"
    }
   ]
  },
  {
   "cell_type": "code",
   "metadata": {
    "id": "8wv4PUM1XnWj",
    "colab_type": "code",
    "colab": {
     "base_uri": "https://localhost:8080/",
     "height": 561
    },
    "outputId": "9e53635f-ac6d-4a96-e940-432e666003e9"
   },
   "source": [
    "x = Input(shape=(28,28,1))\n",
    "input_layer = x\n",
    "\n",
    "\n",
    "cnn = [\n",
    "        Conv2D(filters=10,kernel_size=(3,3),padding='same',activation='relu'),\n",
    "        MaxPool2D((2,2)),\n",
    "       Conv2D(filters=10,kernel_size=(3,3),padding='same',activation='relu'),\n",
    "        MaxPool2D((2,2)),\n",
    "       Conv2D(filters=10,kernel_size=(3,3),padding='same',activation='relu'),\n",
    "        MaxPool2D((2,2)),\n",
    "       Conv2D(filters=5,kernel_size=(3,3),padding='same',activation='relu'),\n",
    "      \n",
    "      Flatten(),\n",
    "      Dense(units=1000, activation='relu'),\n",
    "      Dense(units=1000, activation='relu'),\n",
    "      Dense(units=10,activation='softmax')\n",
    "]\n",
    "for layer in cnn:\n",
    "  x = layer(x)\n",
    "\n",
    "model_1 = Model(input_layer, x)\n",
    "model_1.summary()"
   ],
   "execution_count": 41,
   "outputs": [
    {
     "output_type": "stream",
     "text": [
      "Model: \"model_11\"\n",
      "_________________________________________________________________\n",
      "Layer (type)                 Output Shape              Param #   \n",
      "=================================================================\n",
      "input_10 (InputLayer)        (None, 28, 28, 1)         0         \n",
      "_________________________________________________________________\n",
      "conv2d_7 (Conv2D)            (None, 28, 28, 10)        100       \n",
      "_________________________________________________________________\n",
      "max_pooling2d_5 (MaxPooling2 (None, 14, 14, 10)        0         \n",
      "_________________________________________________________________\n",
      "conv2d_8 (Conv2D)            (None, 14, 14, 10)        910       \n",
      "_________________________________________________________________\n",
      "max_pooling2d_6 (MaxPooling2 (None, 7, 7, 10)          0         \n",
      "_________________________________________________________________\n",
      "conv2d_9 (Conv2D)            (None, 7, 7, 10)          910       \n",
      "_________________________________________________________________\n",
      "max_pooling2d_7 (MaxPooling2 (None, 3, 3, 10)          0         \n",
      "_________________________________________________________________\n",
      "conv2d_10 (Conv2D)           (None, 3, 3, 5)           455       \n",
      "_________________________________________________________________\n",
      "flatten_1 (Flatten)          (None, 45)                0         \n",
      "_________________________________________________________________\n",
      "dense_1 (Dense)              (None, 1000)              46000     \n",
      "_________________________________________________________________\n",
      "dense_2 (Dense)              (None, 1000)              1001000   \n",
      "_________________________________________________________________\n",
      "dense_3 (Dense)              (None, 10)                10010     \n",
      "=================================================================\n",
      "Total params: 1,059,385\n",
      "Trainable params: 1,059,385\n",
      "Non-trainable params: 0\n",
      "_________________________________________________________________\n"
     ],
     "name": "stdout"
    }
   ]
  },
  {
   "cell_type": "code",
   "metadata": {
    "id": "6LigZzcjanXS",
    "colab_type": "code",
    "colab": {
     "base_uri": "https://localhost:8080/",
     "height": 374
    },
    "outputId": "ed5fea63-d892-427a-d570-d7bd1f55f699"
   },
   "source": [
    "\n",
    "model_1.compile(optimizer='adam', loss='sparse_categorical_crossentropy', metrics=['acc'])\n",
    "history = model_1.fit(DAE.predict(train_images), train_labels, validation_data=(DAE.predict(test_images), test_labels), epochs=10)"
   ],
   "execution_count": 42,
   "outputs": [
    {
     "output_type": "stream",
     "text": [
      "Train on 60000 samples, validate on 10000 samples\n",
      "Epoch 1/10\n",
      "60000/60000 [==============================] - 9s 154us/step - loss: 0.5857 - acc: 0.7827 - val_loss: 0.4977 - val_acc: 0.8119\n",
      "Epoch 2/10\n",
      "60000/60000 [==============================] - 9s 149us/step - loss: 0.4366 - acc: 0.8373 - val_loss: 0.4394 - val_acc: 0.8390\n",
      "Epoch 3/10\n",
      "60000/60000 [==============================] - 9s 148us/step - loss: 0.3984 - acc: 0.8522 - val_loss: 0.4253 - val_acc: 0.8443\n",
      "Epoch 4/10\n",
      "60000/60000 [==============================] - 9s 145us/step - loss: 0.3762 - acc: 0.8597 - val_loss: 0.4043 - val_acc: 0.8515\n",
      "Epoch 5/10\n",
      "60000/60000 [==============================] - 9s 155us/step - loss: 0.3606 - acc: 0.8636 - val_loss: 0.3872 - val_acc: 0.8562\n",
      "Epoch 6/10\n",
      "60000/60000 [==============================] - 9s 151us/step - loss: 0.3434 - acc: 0.8694 - val_loss: 0.3888 - val_acc: 0.8587\n",
      "Epoch 7/10\n",
      "60000/60000 [==============================] - 9s 156us/step - loss: 0.3316 - acc: 0.8752 - val_loss: 0.3820 - val_acc: 0.8600\n",
      "Epoch 8/10\n",
      "60000/60000 [==============================] - 9s 147us/step - loss: 0.3243 - acc: 0.8765 - val_loss: 0.3825 - val_acc: 0.8613\n",
      "Epoch 9/10\n",
      "60000/60000 [==============================] - 9s 148us/step - loss: 0.3118 - acc: 0.8813 - val_loss: 0.3773 - val_acc: 0.8643\n",
      "Epoch 10/10\n",
      "60000/60000 [==============================] - 9s 153us/step - loss: 0.3002 - acc: 0.8842 - val_loss: 0.3759 - val_acc: 0.8662\n"
     ],
     "name": "stdout"
    }
   ]
  },
  {
   "cell_type": "code",
   "metadata": {
    "id": "egNZ7awweIyz",
    "colab_type": "code",
    "colab": {
     "base_uri": "https://localhost:8080/",
     "height": 458
    },
    "outputId": "0ce47c87-520b-46d5-8edc-9b86b8c51115",
    "pycharm": {
     "name": "#%%\n"
    }
   },
   "source": [
    "plot_history(history)"
   ],
   "execution_count": 43,
   "outputs": [
    {
     "output_type": "display_data",
     "data": {
      "image/png": "[encoded data removed]",
      "text/plain": [
       "<Figure size 1080x504 with 1 Axes>"
      ]
     },
     "metadata": {
      "tags": [],
      "needs_background": "light"
     }
    }
   ]
  },
  {
   "cell_type": "code",
   "metadata": {
    "id": "Nuh5W-Q5mukh",
    "colab_type": "code",
    "colab": {}
   },
   "source": [
    "input_layer = Input((28,28,1))\n",
    "x = input_layer\n",
    "for layer in denoising_autoencoder.layers[1:]:\n",
    "  x = layer(x)\n",
    "for layer in model_1.layers[1:]:\n",
    "  x = layer(x)\n"
   ],
   "execution_count": 0,
   "outputs": []
  },
  {
   "cell_type": "code",
   "metadata": {
    "id": "o1DngxYjm3to",
    "colab_type": "code",
    "colab": {
     "base_uri": "https://localhost:8080/",
     "height": 969
    },
    "outputId": "eb9aaaf3-90cf-40ba-d196-b0c578698292",
    "pycharm": {
     "name": "#%%\n"
    }
   },
   "source": [
    "\n",
    "el_model_1 = Model(input_layer, x)\n",
    "el_model_1.summary()\n",
    "el_model_1.compile(optimizer='adam', loss='sparse_categorical_crossentropy',metrics=['acc'])\n",
    "_,acc = el_model_1.evaluate(train_images, train_labels)\n",
    "print(acc)"
   ],
   "execution_count": 45,
   "outputs": [
    {
     "output_type": "stream",
     "text": [
      "Model: \"model_12\"\n",
      "_________________________________________________________________\n",
      "Layer (type)                 Output Shape              Param #   \n",
      "=================================================================\n",
      "input_11 (InputLayer)        (None, 28, 28, 1)         0         \n",
      "_________________________________________________________________\n",
      "conv2d_4 (Conv2D)            multiple                  200       \n",
      "_________________________________________________________________\n",
      "max_pooling2d_3 (MaxPooling2 multiple                  0         \n",
      "_________________________________________________________________\n",
      "dropout_2 (Dropout)          multiple                  0         \n",
      "_________________________________________________________________\n",
      "conv2d_5 (Conv2D)            multiple                  3620      \n",
      "_________________________________________________________________\n",
      "max_pooling2d_4 (MaxPooling2 multiple                  0         \n",
      "_________________________________________________________________\n",
      "conv2d_6 (Conv2D)            multiple                  181       \n",
      "_________________________________________________________________\n",
      "conv2d_transpose_4 (Conv2DTr multiple                  10        \n",
      "_________________________________________________________________\n",
      "up_sampling2d_3 (UpSampling2 multiple                  0         \n",
      "_________________________________________________________________\n",
      "conv2d_transpose_5 (Conv2DTr multiple                  200       \n",
      "_________________________________________________________________\n",
      "up_sampling2d_4 (UpSampling2 multiple                  0         \n",
      "_________________________________________________________________\n",
      "conv2d_transpose_6 (Conv2DTr multiple                  181       \n",
      "_________________________________________________________________\n",
      "conv2d_7 (Conv2D)            (None, 28, 28, 10)        100       \n",
      "_________________________________________________________________\n",
      "max_pooling2d_5 (MaxPooling2 (None, 14, 14, 10)        0         \n",
      "_________________________________________________________________\n",
      "conv2d_8 (Conv2D)            (None, 14, 14, 10)        910       \n",
      "_________________________________________________________________\n",
      "max_pooling2d_6 (MaxPooling2 (None, 7, 7, 10)          0         \n",
      "_________________________________________________________________\n",
      "conv2d_9 (Conv2D)            (None, 7, 7, 10)          910       \n",
      "_________________________________________________________________\n",
      "max_pooling2d_7 (MaxPooling2 (None, 3, 3, 10)          0         \n",
      "_________________________________________________________________\n",
      "conv2d_10 (Conv2D)           (None, 3, 3, 5)           455       \n",
      "_________________________________________________________________\n",
      "flatten_1 (Flatten)          (None, 45)                0         \n",
      "_________________________________________________________________\n",
      "dense_1 (Dense)              (None, 1000)              46000     \n",
      "_________________________________________________________________\n",
      "dense_2 (Dense)              (None, 1000)              1001000   \n",
      "_________________________________________________________________\n",
      "dense_3 (Dense)              (None, 10)                10010     \n",
      "=================================================================\n",
      "Total params: 1,063,777\n",
      "Trainable params: 1,063,777\n",
      "Non-trainable params: 0\n",
      "_________________________________________________________________\n",
      "60000/60000 [==============================] - 5s 82us/step\n",
      "0.8912666440010071\n"
     ],
     "name": "stdout"
    }
   ]
  },
  {
   "cell_type": "code",
   "metadata": {
    "id": "vlIVI-0Rm6b_",
    "colab_type": "code",
    "colab": {}
   },
   "source": [
    "el_model_1.save('./Models/denoising_autoencoder_ann.h5')"
   ],
   "execution_count": 0,
   "outputs": []
  },
  {
   "cell_type": "markdown",
   "metadata": {
    "id": "A2J96_Qqmuzi",
    "colab_type": "text",
    "pycharm": {
     "name": "#%% md\n"
    }
   },
   "source": [
    "# MODEL 2\n",
    "\n",
    "\n",
    "\n",
    "\n",
    "\n",
    "\n",
    "\n",
    "\n",
    "\n",
    "`"
   ]
  },
  {
   "cell_type": "code",
   "metadata": {
    "id": "otvZuHQ1gyKs",
    "colab_type": "code",
    "colab": {}
   },
   "source": [
    "plot_n_images(encoder.predict(test_images)[:3])"
   ],
   "execution_count": 0,
   "outputs": []
  },
  {
   "cell_type": "markdown",
   "source": [
    "model_2 with the same fashion we can do the same\n",
    "\n"
   ],
   "metadata": {
    "collapsed": false
   }
  },
  {
   "cell_type": "code",
   "execution_count": null,
   "outputs": [],
   "source": [
    "cnn = [\n",
    "      Input((7,7,1)),\n",
    "       Conv2D(filters=10,kernel_size=(3,3),padding='same',activation='relu'),\n",
    "        MaxPool2D((2,2)),\n",
    "      \n",
    "      Flatten(),\n",
    "      Dense(units=1000, activation='relu'),\n",
    "      Dense(units=1000, activation='relu'),\n",
    "      Dense(units=10,activation='softmax')\n",
    "]\n",
    "\n",
    "input_layer = cnn[0]\n",
    "x = cnn[0]\n",
    "for layer in cnn[1:]:\n",
    "  x = layer(x)\n",
    "\n",
    "model_2 = Model(input_layer, x)\n",
    "model_2.compile(optimizer='adam', loss='sparse_categorical_crossentropy', metrics=['acc'])\n",
    "history = model_2.fit(encoder.predict(train_images), train_labels, validation_data=(encoder.predict(test_images), test_labels), epochs=10)"
   ],
   "metadata": {
    "collapsed": false,
    "pycharm": {
     "name": "#%%\n"
    }
   }
  },
  {
   "cell_type": "code",
   "execution_count": null,
   "outputs": [],
   "source": [
    "plot_history(history)"
   ],
   "metadata": {
    "collapsed": false,
    "pycharm": {
     "name": "#%%\n"
    }
   }
  },
  {
   "cell_type": "code",
   "execution_count": null,
   "outputs": [],
   "source": [
    "input_layer = Input((28,28,1))\n",
    "x = input_layer\n",
    "for layer in encoder.layers[1:]:\n",
    "  x = layer(x)\n",
    "for layer in model_2.layers[1:]:\n",
    "  x = layer(x)\n"
   ],
   "metadata": {
    "collapsed": false,
    "pycharm": {
     "name": "#%%\n"
    }
   }
  },
  {
   "cell_type": "markdown",
   "metadata": {
    "id": "gh5XsnK9ZcT-",
    "colab_type": "text"
   },
   "source": [
    "\n",
    "el_model_2 = Model(input_layer, x)\n",
    "el_model_2.summary()\n",
    "el_model_2.compile(optimizer='adam', loss='sparse_categorical_crossentropy',metrics=['acc'])\n",
    "_,acc = el_model_2.evaluate(train_images, train_labels)\n",
    "print(acc)"
   ]
  },
  {
   "cell_type": "code",
   "metadata": {
    "id": "XidB19QeZbs8",
    "colab_type": "code",
    "colab": {
     "base_uri": "https://localhost:8080/",
     "height": 374
    },
    "outputId": "bdd46039-e02e-4989-ace3-202751672e2c",
    "pycharm": {
     "name": "#%%\n"
    }
   },
   "source": [
    "el_model_2.save('./Models/encoder_ann.h5')\n"
   ],
   "execution_count": 51,
   "outputs": [
    {
     "output_type": "stream",
     "text": [
      "Train on 60000 samples, validate on 10000 samples\n",
      "Epoch 1/10\n",
      "60000/60000 [==============================] - 7s 116us/step - loss: 0.6256 - acc: 0.7569 - val_loss: 0.5021 - val_acc: 0.8063\n",
      "Epoch 2/10\n",
      "60000/60000 [==============================] - 6s 108us/step - loss: 0.4567 - acc: 0.8293 - val_loss: 0.4424 - val_acc: 0.8332\n",
      "Epoch 3/10\n",
      "60000/60000 [==============================] - 7s 111us/step - loss: 0.4147 - acc: 0.8445 - val_loss: 0.4299 - val_acc: 0.8372\n",
      "Epoch 4/10\n",
      "60000/60000 [==============================] - 7s 109us/step - loss: 0.3881 - acc: 0.8539 - val_loss: 0.4147 - val_acc: 0.8454\n",
      "Epoch 5/10\n",
      "60000/60000 [==============================] - 6s 108us/step - loss: 0.3716 - acc: 0.8589 - val_loss: 0.4067 - val_acc: 0.8507\n",
      "Epoch 6/10\n",
      "60000/60000 [==============================] - 6s 108us/step - loss: 0.3563 - acc: 0.8651 - val_loss: 0.3915 - val_acc: 0.8522\n",
      "Epoch 7/10\n",
      "60000/60000 [==============================] - 6s 105us/step - loss: 0.3446 - acc: 0.8690 - val_loss: 0.3804 - val_acc: 0.8552\n",
      "Epoch 8/10\n",
      "60000/60000 [==============================] - 6s 106us/step - loss: 0.3330 - acc: 0.8739 - val_loss: 0.3696 - val_acc: 0.8623\n",
      "Epoch 9/10\n",
      "60000/60000 [==============================] - 6s 108us/step - loss: 0.3236 - acc: 0.8758 - val_loss: 0.3651 - val_acc: 0.8629\n",
      "Epoch 10/10\n",
      "60000/60000 [==============================] - 7s 114us/step - loss: 0.3154 - acc: 0.8784 - val_loss: 0.3748 - val_acc: 0.8609\n"
     ],
     "name": "stdout"
    }
   ]
  },
  {
   "cell_type": "code",
   "metadata": {
    "id": "JXroE8QZjF4i",
    "colab_type": "code",
    "colab": {
     "base_uri": "https://localhost:8080/",
     "height": 458
    },
    "outputId": "dbb9742f-b1d3-4e22-bb50-3e4275d5bea2"
   },
   "source": [
    "plot_history(history)"
   ],
   "execution_count": 52,
   "outputs": [
    {
     "output_type": "display_data",
     "data": {
      "image/png": "[encoded data removed]",
      "text/plain": [
       "<Figure size 1080x504 with 1 Axes>"
      ]
     },
     "metadata": {
      "tags": [],
      "needs_background": "light"
     }
    }
   ]
  },
  {
   "cell_type": "code",
   "metadata": {
    "id": "vev0kQfzkPrG",
    "colab_type": "code",
    "colab": {}
   },
   "source": [
    "input_layer = Input((28,28,1))\n",
    "x = input_layer\n",
    "for layer in encoder.layers[1:]:\n",
    "  x = layer(x)\n",
    "for layer in model_2.layers[1:]:\n",
    "  x = layer(x)\n"
   ],
   "execution_count": 0,
   "outputs": []
  },
  {
   "cell_type": "code",
   "metadata": {
    "id": "hKvBZwUQmGla",
    "colab_type": "code",
    "colab": {
     "base_uri": "https://localhost:8080/",
     "height": 663
    },
    "outputId": "63d72924-eb1d-44cf-99ae-47ffa3c77a45"
   },
   "source": [
    "\n",
    "el_model_2 = Model(input_layer, x)\n",
    "el_model_2.summary()\n",
    "el_model_2.compile(optimizer='adam', loss='sparse_categorical_crossentropy',metrics=['acc'])\n",
    "_,acc = el_model_2.evaluate(train_images, train_labels)\n",
    "print(acc)"
   ],
   "execution_count": 55,
   "outputs": [
    {
     "output_type": "stream",
     "text": [
      "Model: \"model_16\"\n",
      "_________________________________________________________________\n",
      "Layer (type)                 Output Shape              Param #   \n",
      "=================================================================\n",
      "input_16 (InputLayer)        (None, 28, 28, 1)         0         \n",
      "_________________________________________________________________\n",
      "conv2d_4 (Conv2D)            multiple                  200       \n",
      "_________________________________________________________________\n",
      "max_pooling2d_3 (MaxPooling2 multiple                  0         \n",
      "_________________________________________________________________\n",
      "dropout_2 (Dropout)          multiple                  0         \n",
      "_________________________________________________________________\n",
      "conv2d_5 (Conv2D)            multiple                  3620      \n",
      "_________________________________________________________________\n",
      "max_pooling2d_4 (MaxPooling2 multiple                  0         \n",
      "_________________________________________________________________\n",
      "conv2d_6 (Conv2D)            multiple                  181       \n",
      "_________________________________________________________________\n",
      "conv2d_transpose_4 (Conv2DTr multiple                  10        \n",
      "_________________________________________________________________\n",
      "conv2d_12 (Conv2D)           (None, 7, 7, 10)          100       \n",
      "_________________________________________________________________\n",
      "max_pooling2d_9 (MaxPooling2 (None, 3, 3, 10)          0         \n",
      "_________________________________________________________________\n",
      "flatten_3 (Flatten)          (None, 90)                0         \n",
      "_________________________________________________________________\n",
      "dense_7 (Dense)              (None, 1000)              91000     \n",
      "_________________________________________________________________\n",
      "dense_8 (Dense)              (None, 1000)              1001000   \n",
      "_________________________________________________________________\n",
      "dense_9 (Dense)              (None, 10)                10010     \n",
      "=================================================================\n",
      "Total params: 1,106,121\n",
      "Trainable params: 1,106,121\n",
      "Non-trainable params: 0\n",
      "_________________________________________________________________\n",
      "60000/60000 [==============================] - 4s 66us/step\n",
      "0.8821666836738586\n"
     ],
     "name": "stdout"
    }
   ]
  },
  {
   "cell_type": "code",
   "metadata": {
    "id": "OdHLHhNOmcKC",
    "colab_type": "code",
    "colab": {}
   },
   "source": [
    "el_model_2.save('./Models/encoder_ann.h5')"
   ],
   "execution_count": 0,
   "outputs": []
  }
 ]
}
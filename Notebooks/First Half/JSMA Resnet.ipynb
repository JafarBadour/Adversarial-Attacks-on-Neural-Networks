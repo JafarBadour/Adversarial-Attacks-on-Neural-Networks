{
  "nbformat": 4,
  "nbformat_minor": 0,
  "metadata": {
    "kernelspec": {
      "display_name": "Python 3",
      "language": "python",
      "name": "python3"
    },
    "language_info": {
      "codemirror_mode": {
        "name": "ipython",
        "version": 3
      },
      "file_extension": ".py",
      "mimetype": "text/x-python",
      "name": "python",
      "nbconvert_exporter": "python",
      "pygments_lexer": "ipython3",
      "version": "3.7.4"
    },
    "colab": {
      "name": "JSMA.ipynb",
      "provenance": []
    }
  },
  "cells": [
    {
      "cell_type": "code",
      "metadata": {
        "id": "mdzL42H_XGa2",
        "colab_type": "code",
        "colab": {
          "base_uri": "https://localhost:8080/",
          "height": 221
        },
        "outputId": "5402fe19-b3c0-4dca-a08a-77bd41f7335a"
      },
      "source": [
        "!pip install foolbox"
      ],
      "execution_count": 3,
      "outputs": [
        {
          "output_type": "stream",
          "text": [
            "Requirement already satisfied: foolbox in /usr/local/lib/python3.6/dist-packages (2.4.0)\n",
            "Requirement already satisfied: scipy in /usr/local/lib/python3.6/dist-packages (from foolbox) (1.4.1)\n",
            "Requirement already satisfied: numpy in /usr/local/lib/python3.6/dist-packages (from foolbox) (1.17.5)\n",
            "Requirement already satisfied: setuptools in /usr/local/lib/python3.6/dist-packages (from foolbox) (45.2.0)\n",
            "Requirement already satisfied: GitPython in /usr/local/lib/python3.6/dist-packages (from foolbox) (3.1.0)\n",
            "Requirement already satisfied: requests in /usr/local/lib/python3.6/dist-packages (from foolbox) (2.21.0)\n",
            "Requirement already satisfied: gitdb<5,>=4.0.1 in /usr/local/lib/python3.6/dist-packages (from GitPython->foolbox) (4.0.2)\n",
            "Requirement already satisfied: idna<2.9,>=2.5 in /usr/local/lib/python3.6/dist-packages (from requests->foolbox) (2.8)\n",
            "Requirement already satisfied: certifi>=2017.4.17 in /usr/local/lib/python3.6/dist-packages (from requests->foolbox) (2019.11.28)\n",
            "Requirement already satisfied: urllib3<1.25,>=1.21.1 in /usr/local/lib/python3.6/dist-packages (from requests->foolbox) (1.24.3)\n",
            "Requirement already satisfied: chardet<3.1.0,>=3.0.2 in /usr/local/lib/python3.6/dist-packages (from requests->foolbox) (3.0.4)\n",
            "Requirement already satisfied: smmap<4,>=3.0.1 in /usr/local/lib/python3.6/dist-packages (from gitdb<5,>=4.0.1->GitPython->foolbox) (3.0.1)\n"
          ],
          "name": "stdout"
        }
      ]
    },
    {
      "cell_type": "code",
      "metadata": {
        "id": "mvw-TOCRXEg3",
        "colab_type": "code",
        "colab": {}
      },
      "source": [
        "import foolbox\n",
        "import numpy as np\n",
        "import torchvision.models as models\n",
        "\n",
        "# instantiate model (supports PyTorch, Keras, TensorFlow (Graph and Eager), MXNet and many more)\n",
        "model = models.resnet18(pretrained=True).eval()\n",
        "preprocessing = dict(mean=[0.485, 0.456, 0.406], std=[0.229, 0.224, 0.225], axis=-3)\n",
        "fmodel = foolbox.models.PyTorchModel(model, bounds=(0, 1), num_classes=1000, preprocessing=preprocessing)"
      ],
      "execution_count": 0,
      "outputs": []
    },
    {
      "cell_type": "code",
      "metadata": {
        "id": "IOvrhD3DXEhB",
        "colab_type": "code",
        "colab": {
          "base_uri": "https://localhost:8080/",
          "height": 204
        },
        "outputId": "d5f42fa3-3bf8-47bc-ef63-77258e4a750e"
      },
      "source": [
        "!wget https://gist.githubusercontent.com/yrevar/942d3a0ac09ec9e5eb3a/raw/238f720ff059c1f82f368259d1ca4ffa5dd8f9f5/imagenet1000_clsidx_to_labels.txt"
      ],
      "execution_count": 5,
      "outputs": [
        {
          "output_type": "stream",
          "text": [
            "--2020-03-15 18:08:59--  https://gist.githubusercontent.com/yrevar/942d3a0ac09ec9e5eb3a/raw/238f720ff059c1f82f368259d1ca4ffa5dd8f9f5/imagenet1000_clsidx_to_labels.txt\n",
            "Resolving gist.githubusercontent.com (gist.githubusercontent.com)... 151.101.0.133, 151.101.64.133, 151.101.128.133, ...\n",
            "Connecting to gist.githubusercontent.com (gist.githubusercontent.com)|151.101.0.133|:443... connected.\n",
            "HTTP request sent, awaiting response... 200 OK\n",
            "Length: 30564 (30K) [text/plain]\n",
            "Saving to: ‘imagenet1000_clsidx_to_labels.txt.1’\n",
            "\n",
            "\r          imagenet1   0%[                    ]       0  --.-KB/s               \rimagenet1000_clsidx 100%[===================>]  29.85K  --.-KB/s    in 0.01s   \n",
            "\n",
            "2020-03-15 18:08:59 (2.21 MB/s) - ‘imagenet1000_clsidx_to_labels.txt.1’ saved [30564/30564]\n",
            "\n"
          ],
          "name": "stdout"
        }
      ]
    },
    {
      "cell_type": "code",
      "metadata": {
        "id": "sznL531jXEhI",
        "colab_type": "code",
        "colab": {}
      },
      "source": [
        "import json\n",
        "name = 'imagenet1000_clsidx_to_labels.txt'\n",
        "with open(name,'r') as f:\n",
        "    txt = f.readlines()\n",
        "    text = list(map(lambda x:x.replace(\"'\",\"\\\"\"),txt))\n",
        "labels_text = text"
      ],
      "execution_count": 0,
      "outputs": []
    },
    {
      "cell_type": "code",
      "metadata": {
        "id": "whEnteBDXEhS",
        "colab_type": "code",
        "colab": {
          "base_uri": "https://localhost:8080/",
          "height": 34
        },
        "outputId": "e32b2015-36fa-488f-b8d8-677860629099"
      },
      "source": [
        "\n",
        "# get a batch of images and labels and print the accuracy\n",
        "images, labels = foolbox.utils.samples(dataset='imagenet', batchsize=16, data_format='channels_first', bounds=(0, 1))\n",
        "print(np.mean(fmodel.forward(images).argmax(axis=-1) == labels))\n",
        "# -> 0.9375"
      ],
      "execution_count": 7,
      "outputs": [
        {
          "output_type": "stream",
          "text": [
            "0.9375\n"
          ],
          "name": "stdout"
        }
      ]
    },
    {
      "cell_type": "code",
      "metadata": {
        "id": "2CI6a-sCXEha",
        "colab_type": "code",
        "colab": {
          "base_uri": "https://localhost:8080/",
          "height": 34
        },
        "outputId": "50037b48-3c7c-441d-8ba2-2426ebc0f52c"
      },
      "source": [
        "len(labels[4:5])"
      ],
      "execution_count": 16,
      "outputs": [
        {
          "output_type": "execute_result",
          "data": {
            "text/plain": [
              "1"
            ]
          },
          "metadata": {
            "tags": []
          },
          "execution_count": 16
        }
      ]
    },
    {
      "cell_type": "code",
      "metadata": {
        "id": "fWjThzMiXQzw",
        "colab_type": "code",
        "colab": {}
      },
      "source": [
        "attack = foolbox.attacks.SaliencyMapAttack(fmodel)\n",
        "\n",
        "# apply the attack\n",
        "\n",
        "adversarials = attack(images[4:5], labels[4:5], unpack=False)"
      ],
      "execution_count": 0,
      "outputs": []
    },
    {
      "cell_type": "code",
      "metadata": {
        "id": "OyBWqBW-XEhi",
        "colab_type": "code",
        "colab": {}
      },
      "source": [
        "\n",
        "\n",
        "# if the i'th image is misclassfied without a perturbation, then adversarials[i] will be the same as images[i]\n",
        "# if the attack fails to find an adversarial for the i'th image, then adversarials[i] will all be np.nan\n",
        "\n",
        "# Foolbox guarantees that all returned adversarials are in fact in adversarials\n",
        "print(np.mean(fmodel.forward(adversarials).argmax(axis=-1) == labels))\n",
        "# -> 0.0\n"
      ],
      "execution_count": 0,
      "outputs": []
    },
    {
      "cell_type": "code",
      "metadata": {
        "id": "41ctA-TaXEhp",
        "colab_type": "code",
        "colab": {
          "base_uri": "https://localhost:8080/",
          "height": 68
        },
        "outputId": "3eb37e2e-0659-4664-c557-0e56f3af39ba"
      },
      "source": [
        "\n",
        "\n",
        "# ---\n",
        "\n",
        "# In rare cases, it can happen that attacks return adversarials that are so close to the decision boundary,\n",
        "# that they actually might end up on the other (correct) side if you pass them through the model again like\n",
        "# above to get the adversarial class. This is because models are not numerically deterministic (on GPU, some\n",
        "# operations such as `sum` are non-deterministic by default) and indepedent between samples (an input might\n",
        "# be classified differently depending on the other inputs in the same batch).\n",
        "\n",
        "# You can always get the actual adversarial class that was observed for that sample by Foolbox by\n",
        "# passing `unpack=False` to get the actual `Adversarial` objects:\n",
        "\n",
        "# attack = foolbox.attacks.SaliencyMapAttack(fmodel, distance=foolbox.distances.Linf)\n",
        "# adversarials = attack(images, labels, unpack=False)\n",
        "\n",
        "adversarial_classes = np.asarray([a.adversarial_class for a in adversarials])\n",
        "print(labels)\n",
        "print(adversarial_classes)\n",
        "print(np.mean(adversarial_classes == labels))  # will always be 0.0\n"
      ],
      "execution_count": 11,
      "outputs": [
        {
          "output_type": "stream",
          "text": [
            "[243 559 438 990 949 853 609 609 915 455 541 630 741 471 129  99]\n",
            "[242]\n",
            "0.0\n"
          ],
          "name": "stdout"
        }
      ]
    },
    {
      "cell_type": "code",
      "metadata": {
        "id": "tAhRbzTaXEhy",
        "colab_type": "code",
        "colab": {
          "base_uri": "https://localhost:8080/",
          "height": 51
        },
        "outputId": "df0d6298-0dd2-4a05-83f6-ffd7ab900af5"
      },
      "source": [
        "labels"
      ],
      "execution_count": 12,
      "outputs": [
        {
          "output_type": "execute_result",
          "data": {
            "text/plain": [
              "array([243, 559, 438, 990, 949, 853, 609, 609, 915, 455, 541, 630, 741,\n",
              "       471, 129,  99])"
            ]
          },
          "metadata": {
            "tags": []
          },
          "execution_count": 12
        }
      ]
    },
    {
      "cell_type": "code",
      "metadata": {
        "id": "X8UuPqSWXEh4",
        "colab_type": "code",
        "colab": {}
      },
      "source": [
        "def transform_shape(img):\n",
        "    shape = img[0].shape\n",
        "    res = [[0 for i in range(shape[0])] for j in range(shape[1])]\n",
        "    for i in range(shape[0]):\n",
        "        for j in range(shape[1]):\n",
        "            res[i][j] = [img[0][i][j], img[1][i][j], img[2][i][j]]\n",
        "    return np.array(res)"
      ],
      "execution_count": 0,
      "outputs": []
    },
    {
      "cell_type": "code",
      "metadata": {
        "id": "g8CuiMEjXEiB",
        "colab_type": "code",
        "colab": {}
      },
      "source": [
        "adv = adversarials[0]\n",
        "perturbed, original = adv.perturbed, adv.unperturbed\n",
        "perturbed = transform_shape(perturbed)\n",
        "original = transform_shape(original)"
      ],
      "execution_count": 0,
      "outputs": []
    },
    {
      "cell_type": "code",
      "metadata": {
        "id": "qcEuOx_mXEiJ",
        "colab_type": "code",
        "colab": {
          "base_uri": "https://localhost:8080/",
          "height": 177
        },
        "outputId": "99738337-5705-4fd6-fc0c-968c6e23f7b7"
      },
      "source": [
        "import matplotlib.pyplot as plt\n",
        "plt.figure('JSMA')\n",
        "plt.subplot(1,3,1)\n",
        "plt.title(labels_text[adv.adversarial_class])\n",
        "plt.imshow(perturbed)\n",
        "plt.subplot(1,3,2)\n",
        "plt.title(labels_text[adv.original_class])\n",
        "\n",
        "plt.imshow(original)\n",
        "plt.subplot(1,3,3)\n",
        "difference = perturbed - original\n",
        "maxi, mini = np.max(difference), np.min(difference)\n",
        "difference = (difference - mini) / (maxi- mini)\n",
        "\n",
        "#print(np.max(difference), np.min(difference))\n",
        "plt.imshow(difference)\n",
        "\n",
        "plt.savefig('JSMA')\n",
        "plt.show()\n"
      ],
      "execution_count": 23,
      "outputs": [
        {
          "output_type": "display_data",
          "data": {
            "image/png": "[encoded data removed]",
            "text/plain": [
              "<Figure size 432x288 with 3 Axes>"
            ]
          },
          "metadata": {
            "tags": []
          }
        }
      ]
    },
    {
      "cell_type": "code",
      "metadata": {
        "id": "IT8euMZfXEiR",
        "colab_type": "code",
        "colab": {
          "base_uri": "https://localhost:8080/",
          "height": 51
        },
        "outputId": "34a5be1b-57d6-497f-9ac2-e411d75cf046"
      },
      "source": [
        "ls"
      ],
      "execution_count": 21,
      "outputs": [
        {
          "output_type": "stream",
          "text": [
            "FGSM.png                           imagenet1000_clsidx_to_labels.txt.1\n",
            "imagenet1000_clsidx_to_labels.txt  \u001b[0m\u001b[01;34msample_data\u001b[0m/\n"
          ],
          "name": "stdout"
        }
      ]
    },
    {
      "cell_type": "code",
      "metadata": {
        "id": "9QBtQAzsXEiW",
        "colab_type": "code",
        "colab": {}
      },
      "source": [
        "from google.colab import files\n",
        "files.download('JSMA.png')"
      ],
      "execution_count": 0,
      "outputs": []
    },
    {
      "cell_type": "code",
      "metadata": {
        "id": "tyWeP4z8XEia",
        "colab_type": "code",
        "colab": {}
      },
      "source": [
        "\n",
        "# The `Adversarial` objects also provide a `distance` attribute. Note that the distances\n",
        "# can be 0 (misclassified without perturbation) and inf (attack failed).\n",
        "distances = np.asarray([a.distance.value for a in adversarials])\n",
        "print(\"{:.1e}, {:.1e}, {:.1e}\".format(distances.min(), np.median(distances), distances.max()))\n",
        "print(\"{} of {} attacks failed\".format(sum(adv.distance.value == np.inf for adv in adversarials), len(adversarials)))\n",
        "print(\"{} of {} inputs misclassified without perturbation\".format(sum(adv.distance.value == 0 for adv in adversarials), len(adversarials)))\n"
      ],
      "execution_count": 0,
      "outputs": []
    },
    {
      "cell_type": "code",
      "metadata": {
        "id": "ZmhaQTMaXEik",
        "colab_type": "code",
        "colab": {}
      },
      "source": [
        "!git add -A"
      ],
      "execution_count": 0,
      "outputs": []
    },
    {
      "cell_type": "code",
      "metadata": {
        "id": "WsnknN3YXEir",
        "colab_type": "code",
        "colab": {}
      },
      "source": [
        ""
      ],
      "execution_count": 0,
      "outputs": []
    }
  ]
}
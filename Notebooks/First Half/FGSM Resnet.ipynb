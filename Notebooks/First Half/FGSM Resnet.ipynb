{
 "cells": [
  {
   "cell_type": "code",
   "execution_count": 1,
   "metadata": {},
   "outputs": [],
   "source": [
    "import foolbox\n",
    "import numpy as np\n",
    "import torchvision.models as models\n",
    "\n",
    "# instantiate model (supports PyTorch, Keras, TensorFlow (Graph and Eager), MXNet and many more)\n",
    "model = models.resnet18(pretrained=True).eval()\n",
    "preprocessing = dict(mean=[0.485, 0.456, 0.406], std=[0.229, 0.224, 0.225], axis=-3)\n",
    "fmodel = foolbox.models.PyTorchModel(model, bounds=(0, 1), num_classes=1000, preprocessing=preprocessing)"
   ]
  },
  {
   "cell_type": "code",
   "execution_count": 2,
   "metadata": {},
   "outputs": [
    {
     "name": "stdout",
     "output_type": "stream",
     "text": [
      "--2020-03-15 21:00:06--  https://gist.githubusercontent.com/yrevar/942d3a0ac09ec9e5eb3a/raw/238f720ff059c1f82f368259d1ca4ffa5dd8f9f5/imagenet1000_clsidx_to_labels.txt\n",
      "Resolving gist.githubusercontent.com (gist.githubusercontent.com)... 151.101.244.133\n",
      "Connecting to gist.githubusercontent.com (gist.githubusercontent.com)|151.101.244.133|:443... connected.\n",
      "HTTP request sent, awaiting response... 200 OK\n",
      "Length: 30564 (30K) [text/plain]\n",
      "Saving to: ‘imagenet1000_clsidx_to_labels.txt.1’\n",
      "\n",
      "imagenet1000_clsidx 100%[===================>]  29.85K  --.-KB/s    in 0.07s   \n",
      "\n",
      "2020-03-15 21:00:06 (417 KB/s) - ‘imagenet1000_clsidx_to_labels.txt.1’ saved [30564/30564]\n",
      "\n"
     ]
    }
   ],
   "source": [
    "!wget https://gist.githubusercontent.com/yrevar/942d3a0ac09ec9e5eb3a/raw/238f720ff059c1f82f368259d1ca4ffa5dd8f9f5/imagenet1000_clsidx_to_labels.txt"
   ]
  },
  {
   "cell_type": "code",
   "execution_count": 3,
   "metadata": {},
   "outputs": [],
   "source": [
    "import json\n",
    "name = 'imagenet1000_clsidx_to_labels.txt'\n",
    "with open(name,'r') as f:\n",
    "    txt = f.readlines()\n",
    "    text = list(map(lambda x:x.replace(\"'\",\"\\\"\"),txt))\n",
    "labels_text = text"
   ]
  },
  {
   "cell_type": "code",
   "execution_count": 4,
   "metadata": {},
   "outputs": [
    {
     "name": "stdout",
     "output_type": "stream",
     "text": [
      "0.9375\n"
     ]
    }
   ],
   "source": [
    "\n",
    "# get a batch of images and labels and print the accuracy\n",
    "images, labels = foolbox.utils.samples(dataset='imagenet', batchsize=16, data_format='channels_first', bounds=(0, 1))\n",
    "print(np.mean(fmodel.forward(images).argmax(axis=-1) == labels))\n",
    "# -> 0.9375"
   ]
  },
  {
   "cell_type": "code",
   "execution_count": 7,
   "metadata": {},
   "outputs": [
    {
     "data": {
      "text/plain": [
       "1"
      ]
     },
     "execution_count": 7,
     "metadata": {},
     "output_type": "execute_result"
    }
   ],
   "source": [
    "len(labels[:1])"
   ]
  },
  {
   "cell_type": "code",
   "execution_count": 8,
   "metadata": {},
   "outputs": [
    {
     "name": "stdout",
     "output_type": "stream",
     "text": [
      "0.0\n"
     ]
    }
   ],
   "source": [
    "\n",
    "\n",
    "# apply the attack\n",
    "attack = foolbox.attacks.SaliencyMapAttack(fmodel)\n",
    "adversarials = attack(images[:1], labels[:1])\n",
    "# if the i'th image is misclassfied without a perturbation, then adversarials[i] will be the same as images[i]\n",
    "# if the attack fails to find an adversarial for the i'th image, then adversarials[i] will all be np.nan\n",
    "\n",
    "# Foolbox guarantees that all returned adversarials are in fact in adversarials\n",
    "print(np.mean(fmodel.forward(adversarials).argmax(axis=-1) == labels))\n",
    "# -> 0.0\n"
   ]
  },
  {
   "cell_type": "code",
   "execution_count": null,
   "metadata": {},
   "outputs": [],
   "source": [
    "\n",
    "\n",
    "# ---\n",
    "\n",
    "# In rare cases, it can happen that attacks return adversarials that are so close to the decision boundary,\n",
    "# that they actually might end up on the other (correct) side if you pass them through the model again like\n",
    "# above to get the adversarial class. This is because models are not numerically deterministic (on GPU, some\n",
    "# operations such as `sum` are non-deterministic by default) and indepedent between samples (an input might\n",
    "# be classified differently depending on the other inputs in the same batch).\n",
    "\n",
    "# You can always get the actual adversarial class that was observed for that sample by Foolbox by\n",
    "# passing `unpack=False` to get the actual `Adversarial` objects:\n",
    "attack = foolbox.attacks.SaliencyMapAttack(fmodel, distance=foolbox.distances.Linf)\n",
    "adversarials = attack(images, labels, unpack=False)\n",
    "\n",
    "adversarial_classes = np.asarray([a.adversarial_class for a in adversarials])\n",
    "print(labels)\n",
    "print(adversarial_classes)\n",
    "print(np.mean(adversarial_classes == labels))  # will always be 0.0\n"
   ]
  },
  {
   "cell_type": "code",
   "execution_count": null,
   "metadata": {},
   "outputs": [],
   "source": [
    "labels"
   ]
  },
  {
   "cell_type": "code",
   "execution_count": null,
   "metadata": {},
   "outputs": [],
   "source": [
    "def transform_shape(img):\n",
    "    shape = img[0].shape\n",
    "    res = [[0 for i in range(shape[0])] for j in range(shape[1])]\n",
    "    for i in range(shape[0]):\n",
    "        for j in range(shape[1]):\n",
    "            res[i][j] = [img[0][i][j], img[1][i][j], img[2][i][j]]\n",
    "    return np.array(res)"
   ]
  },
  {
   "cell_type": "code",
   "execution_count": null,
   "metadata": {},
   "outputs": [],
   "source": [
    "adv = adversarials[8]\n",
    "perturbed, original = adv.perturbed, adv.unperturbed\n",
    "perturbed = transform_shape(perturbed)\n",
    "original = transform_shape(original)"
   ]
  },
  {
   "cell_type": "code",
   "execution_count": null,
   "metadata": {},
   "outputs": [],
   "source": [
    "import matplotlib.pyplot as plt\n",
    "plt.figure('FGSM')\n",
    "plt.subplot(1,3,1)\n",
    "plt.title(labels_text[adv.adversarial_class])\n",
    "plt.imshow(perturbed)\n",
    "plt.subplot(1,3,2)\n",
    "plt.title(labels_text[adv.original_class])\n",
    "\n",
    "plt.imshow(original)\n",
    "plt.subplot(1,3,3)\n",
    "difference = perturbed - original\n",
    "maxi, mini = np.max(difference), np.min(difference)\n",
    "difference = (difference - mini) / (maxi- mini)\n",
    "\n",
    "#print(np.max(difference), np.min(difference))\n",
    "plt.imshow(difference)\n",
    "\n",
    "plt.savefig('FGSM')\n",
    "plt.show()\n"
   ]
  },
  {
   "cell_type": "code",
   "execution_count": 10,
   "metadata": {},
   "outputs": [
    {
     "name": "stdout",
     "output_type": "stream",
     "text": [
      "FGSM.ipynb  \u001b[0m\u001b[01;35mFGSM.png\u001b[0m  imagenet1000_clsidx_to_labels.txt\r\n"
     ]
    }
   ],
   "source": [
    "ls"
   ]
  },
  {
   "cell_type": "code",
   "execution_count": 11,
   "metadata": {},
   "outputs": [
    {
     "name": "stdout",
     "output_type": "stream",
     "text": [
      "/home/jafar/PycharmProjects/strengthening-dnns/My Own Work\r\n"
     ]
    }
   ],
   "source": [
    "!pwd"
   ]
  },
  {
   "cell_type": "code",
   "execution_count": 12,
   "metadata": {},
   "outputs": [
    {
     "name": "stdout",
     "output_type": "stream",
     "text": [
      "0.0e+00, 8.0e-04, 2.9e-03\n",
      "0 of 16 attacks failed\n",
      "1 of 16 inputs misclassified without perturbation\n"
     ]
    }
   ],
   "source": [
    "\n",
    "# The `Adversarial` objects also provide a `distance` attribute. Note that the distances\n",
    "# can be 0 (misclassified without perturbation) and inf (attack failed).\n",
    "distances = np.asarray([a.distance.value for a in adversarials])\n",
    "print(\"{:.1e}, {:.1e}, {:.1e}\".format(distances.min(), np.median(distances), distances.max()))\n",
    "print(\"{} of {} attacks failed\".format(sum(adv.distance.value == np.inf for adv in adversarials), len(adversarials)))\n",
    "print(\"{} of {} inputs misclassified without perturbation\".format(sum(adv.distance.value == 0 for adv in adversarials), len(adversarials)))\n"
   ]
  },
  {
   "cell_type": "code",
   "execution_count": null,
   "metadata": {},
   "outputs": [],
   "source": [
    "!git add -A"
   ]
  },
  {
   "cell_type": "code",
   "execution_count": null,
   "metadata": {},
   "outputs": [],
   "source": []
  }
 ],
 "metadata": {
  "kernelspec": {
   "display_name": "Python 3",
   "language": "python",
   "name": "python3"
  },
  "language_info": {
   "codemirror_mode": {
    "name": "ipython",
    "version": 3
   },
   "file_extension": ".py",
   "mimetype": "text/x-python",
   "name": "python",
   "nbconvert_exporter": "python",
   "pygments_lexer": "ipython3",
   "version": "3.7.4"
  }
 },
 "nbformat": 4,
 "nbformat_minor": 4
}

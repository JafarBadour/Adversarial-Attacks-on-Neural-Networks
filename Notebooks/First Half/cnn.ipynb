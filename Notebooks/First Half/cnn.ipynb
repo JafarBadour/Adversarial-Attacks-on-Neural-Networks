{
 "cells": [
  {
   "cell_type": "code",
   "execution_count": 18,
   "metadata": {
    "collapsed": true,
    "pycharm": {
     "name": "#%%\n",
     "is_executing": false
    }
   },
   "outputs": [
    {
     "name": "stdout",
     "text": [
      "2.1.0\n",
      "[[1 0 1]\n",
      " [1 1 1]\n",
      " [1 0 1]]\n",
      "Train on 1 samples\n",
      "1/1 [==============================] - 1s 770ms/sample - loss: 1.7171 - accuracy: 0.0000e+00\n",
      "Model: \"sequential_12\"\n",
      "_________________________________________________________________\n",
      "Layer (type)                 Output Shape              Param #   \n",
      "=================================================================\n",
      "flatten_13 (Flatten)         multiple                  0         \n",
      "_________________________________________________________________\n",
      "dense_25 (Dense)             multiple                  1000      \n",
      "_________________________________________________________________\n",
      "dense_26 (Dense)             multiple                  909       \n",
      "=================================================================\n",
      "Total params: 1,909\n",
      "Trainable params: 1,909\n",
      "Non-trainable params: 0\n",
      "_________________________________________________________________\n"
     ],
     "output_type": "stream"
    }
   ],
   "source": [
    "import numpy as np\n",
    "import tensorflow as tf\n",
    "\n",
    "print(tf.__version__)\n",
    "inp = [[1,0,1],[1,1,1],[1,0,1]]\n",
    "inp = np.array(inp)\n",
    "print(inp)\n",
    "\n",
    "model  = tf.keras.Sequential([\n",
    "    tf.keras.layers.Flatten(),\n",
    "    tf.keras.layers.Dense(units=100,activation=tf.keras.activations.relu),\n",
    "    tf.keras.layers.Dense(units=9,activation=tf.keras.activations.relu)\n",
    "])\n",
    "model.compile(optimizer='adam', loss='sparse_categorical_crossentropy', metrics=['accuracy'])\n",
    "\n",
    "model.fit(np.array([inp]), np.array([1]))\n",
    "\n",
    "model.summary()\n"
   ]
  },
  {
   "cell_type": "code",
   "execution_count": null,
   "outputs": [],
   "source": [
    "\n",
    "\n"
   ],
   "metadata": {
    "collapsed": false,
    "pycharm": {
     "name": "#%%\n"
    }
   }
  }
 ],
 "metadata": {
  "kernelspec": {
   "display_name": "Python 3",
   "language": "python",
   "name": "python3"
  },
  "language_info": {
   "codemirror_mode": {
    "name": "ipython",
    "version": 2
   },
   "file_extension": ".py",
   "mimetype": "text/x-python",
   "name": "python",
   "nbconvert_exporter": "python",
   "pygments_lexer": "ipython2",
   "version": "2.7.6"
  },
  "pycharm": {
   "stem_cell": {
    "cell_type": "raw",
    "source": [],
    "metadata": {
     "collapsed": false
    }
   }
  }
 },
 "nbformat": 4,
 "nbformat_minor": 0
}
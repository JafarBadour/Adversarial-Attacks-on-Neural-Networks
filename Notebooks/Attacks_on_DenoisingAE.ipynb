{
 "nbformat": 4,
 "nbformat_minor": 0,
 "metadata": {
  "colab": {
   "name": "Attacks on DenoisingAE.ipynb",
   "provenance": []
  },
  "kernelspec": {
   "name": "python3",
   "language": "python",
   "display_name": "Python 3"
  },
  "accelerator": "GPU"
 },
 "cells": [
  {
   "cell_type": "markdown",
   "metadata": {
    "id": "0DJpZgXfuLuj",
    "colab_type": "text"
   },
   "source": [
    "# Initiation of notebook\n",
    "\n",
    "\n",
    "First get the repo from github to experiment on its models\n",
    "\n",
    "\n",
    "we have 2 models to experiment on\n",
    "\n",
    "\n",
    "```model_1```:\n",
    "Denoising autoencoder + CNN \n",
    "\n",
    "```model_2```:\n",
    "Encoder of the DAE + CNN"
   ]
  },
  {
   "cell_type": "code",
   "metadata": {
    "id": "RHzCcrRTtxPL",
    "colab_type": "code",
    "colab": {
     "base_uri": "https://localhost:8080/",
     "height": 34
    },
    "outputId": "815b95c9-2525-4269-d999-6250d388f9a2"
   },
   "source": [
    "\n",
    "from google.colab import drive\n",
    "drive.mount('/content/gdrive/') \n"
   ],
   "execution_count": 1,
   "outputs": [
    {
     "output_type": "stream",
     "text": [
      "Drive already mounted at /content/gdrive/; to attempt to forcibly remount, call drive.mount(\"/content/gdrive/\", force_remount=True).\n"
     ],
     "name": "stdout"
    }
   ]
  },
  {
   "cell_type": "code",
   "metadata": {
    "id": "db4CsfXguHaM",
    "colab_type": "code",
    "colab": {
     "base_uri": "https://localhost:8080/",
     "height": 34
    },
    "outputId": "6965ab3a-26a5-4cbc-c449-2283923e7b96"
   },
   "source": [
    "%cd gdrive/My\\ Drive/ColabFiles/AdversarialAttacks/"
   ],
   "execution_count": 2,
   "outputs": [
    {
     "output_type": "stream",
     "text": [
      "/content/gdrive/My Drive/ColabFiles/AdversarialAttacks\n"
     ],
     "name": "stdout"
    }
   ]
  },
  {
   "cell_type": "code",
   "metadata": {
    "id": "WkvB2m6NuJSK",
    "colab_type": "code",
    "colab": {
     "base_uri": "https://localhost:8080/",
     "height": 170
    },
    "outputId": "31838f64-e203-4551-eba8-596773432141"
   },
   "source": [
    "!git config --global user.email \"jafer.ba@Gmail.com\"\n",
    "\n",
    "!git fetch --all\n",
    "\n",
    "!git reset --hard origin/master\n"
   ],
   "execution_count": 3,
   "outputs": [
    {
     "output_type": "stream",
     "text": [
      "Fetching origin\n",
      "remote: Enumerating objects: 10, done.\u001B[K\n",
      "remote: Counting objects:  10% (1/10)\u001B[K\rremote: Counting objects:  20% (2/10)\u001B[K\rremote: Counting objects:  30% (3/10)\u001B[K\rremote: Counting objects:  40% (4/10)\u001B[K\rremote: Counting objects:  50% (5/10)\u001B[K\rremote: Counting objects:  60% (6/10)\u001B[K\rremote: Counting objects:  70% (7/10)\u001B[K\rremote: Counting objects:  80% (8/10)\u001B[K\rremote: Counting objects:  90% (9/10)\u001B[K\rremote: Counting objects: 100% (10/10)\u001B[K\rremote: Counting objects: 100% (10/10), done.\u001B[K\n",
      "remote: Compressing objects:  33% (1/3)\u001B[K\rremote: Compressing objects:  66% (2/3)\u001B[K\rremote: Compressing objects: 100% (3/3)\u001B[K\rremote: Compressing objects: 100% (3/3), done.\u001B[K\n",
      "remote: Total 6 (delta 3), reused 6 (delta 3), pack-reused 0\u001B[K\n",
      "Unpacking objects: 100% (6/6), done.\n",
      "From https://github.com/JafarBadour/Adversarial-Attacks-on-Neural-Networks\n",
      "   0530fd6..99dd08e  master     -> origin/master\n",
      "HEAD is now at 99dd08e feat: added ```generate_adversarial_data``` given a model and an attack criterion generate adversarial examples from the file adversarial_utils.py\n"
     ],
     "name": "stdout"
    }
   ]
  },
  {
   "cell_type": "code",
   "metadata": {
    "id": "0IXOtLOAuK_X",
    "colab_type": "code",
    "colab": {
     "base_uri": "https://localhost:8080/",
     "height": 153
    },
    "outputId": "e7b9d0e8-faff-45d6-ea30-a2fc9df5ee8f"
   },
   "source": [
    "ls Models/ -la"
   ],
   "execution_count": 4,
   "outputs": [
    {
     "output_type": "stream",
     "text": [
      "total 8850\n",
      "drwx------ 2 root root    4096 Apr 25 18:23 \u001B[0m\u001B[01;34mDAE\u001B[0m/\n",
      "-rw------- 1 root root  105216 Apr 25 18:23 DAE.h\n",
      "-rw------- 1 root root  105304 Apr 25 19:31 DAE.h5\n",
      "-rw------- 1 root root   17168 Apr 25 19:31 decoder.h5\n",
      "-rw------- 1 root root 4320248 Apr 25 19:31 denoising_autoencoder_ann.h5\n",
      "-rw------- 1 root root 4465816 Apr 25 19:31 encoder_ann.h5\n",
      "-rw------- 1 root root   43176 Apr 25 19:31 encoder.h5\n"
     ],
     "name": "stdout"
    }
   ]
  },
  {
   "cell_type": "code",
   "metadata": {
    "id": "CmeLmVqlvquC",
    "colab_type": "code",
    "colab": {
     "base_uri": "https://localhost:8080/",
     "height": 785
    },
    "outputId": "57722852-ffeb-4721-e4a7-d6e885e86802"
   },
   "source": [
    "\n",
    "!pip install -r requirements.txt"
   ],
   "execution_count": 5,
   "outputs": [
    {
     "output_type": "stream",
     "text": [
      "Requirement already satisfied: matplotlib in /usr/local/lib/python3.6/dist-packages (from -r requirements.txt (line 1)) (3.2.1)\n",
      "Requirement already satisfied: tensorflow==2.* in /usr/local/lib/python3.6/dist-packages (from -r requirements.txt (line 2)) (2.2.0rc3)\n",
      "Requirement already satisfied: foolbox==1.8.0 in /usr/local/lib/python3.6/dist-packages (from -r requirements.txt (line 3)) (1.8.0)\n",
      "Requirement already satisfied: cycler>=0.10 in /usr/local/lib/python3.6/dist-packages (from matplotlib->-r requirements.txt (line 1)) (0.10.0)\n",
      "Requirement already satisfied: numpy>=1.11 in /usr/local/lib/python3.6/dist-packages (from matplotlib->-r requirements.txt (line 1)) (1.18.3)\n",
      "Requirement already satisfied: kiwisolver>=1.0.1 in /usr/local/lib/python3.6/dist-packages (from matplotlib->-r requirements.txt (line 1)) (1.2.0)\n",
      "Requirement already satisfied: pyparsing!=2.0.4,!=2.1.2,!=2.1.6,>=2.0.1 in /usr/local/lib/python3.6/dist-packages (from matplotlib->-r requirements.txt (line 1)) (2.4.7)\n",
      "Requirement already satisfied: python-dateutil>=2.1 in /usr/local/lib/python3.6/dist-packages (from matplotlib->-r requirements.txt (line 1)) (2.8.1)\n",
      "Requirement already satisfied: opt-einsum>=2.3.2 in /usr/local/lib/python3.6/dist-packages (from tensorflow==2.*->-r requirements.txt (line 2)) (3.2.1)\n",
      "Requirement already satisfied: termcolor>=1.1.0 in /usr/local/lib/python3.6/dist-packages (from tensorflow==2.*->-r requirements.txt (line 2)) (1.1.0)\n",
      "Requirement already satisfied: wrapt>=1.11.1 in /usr/local/lib/python3.6/dist-packages (from tensorflow==2.*->-r requirements.txt (line 2)) (1.12.1)\n",
      "Requirement already satisfied: scipy==1.4.1; python_version >= \"3\" in /usr/local/lib/python3.6/dist-packages (from tensorflow==2.*->-r requirements.txt (line 2)) (1.4.1)\n",
      "Requirement already satisfied: wheel>=0.26; python_version >= \"3\" in /usr/local/lib/python3.6/dist-packages (from tensorflow==2.*->-r requirements.txt (line 2)) (0.34.2)\n",
      "Requirement already satisfied: gast==0.3.3 in /usr/local/lib/python3.6/dist-packages (from tensorflow==2.*->-r requirements.txt (line 2)) (0.3.3)\n",
      "Requirement already satisfied: six>=1.12.0 in /usr/local/lib/python3.6/dist-packages (from tensorflow==2.*->-r requirements.txt (line 2)) (1.12.0)\n",
      "Requirement already satisfied: tensorflow-estimator<2.3.0,>=2.2.0rc0 in /usr/local/lib/python3.6/dist-packages (from tensorflow==2.*->-r requirements.txt (line 2)) (2.2.0)\n",
      "Requirement already satisfied: google-pasta>=0.1.8 in /usr/local/lib/python3.6/dist-packages (from tensorflow==2.*->-r requirements.txt (line 2)) (0.2.0)\n",
      "Requirement already satisfied: protobuf>=3.8.0 in /usr/local/lib/python3.6/dist-packages (from tensorflow==2.*->-r requirements.txt (line 2)) (3.10.0)\n",
      "Requirement already satisfied: tensorboard<2.3.0,>=2.2.0 in /usr/local/lib/python3.6/dist-packages (from tensorflow==2.*->-r requirements.txt (line 2)) (2.2.1)\n",
      "Requirement already satisfied: absl-py>=0.7.0 in /usr/local/lib/python3.6/dist-packages (from tensorflow==2.*->-r requirements.txt (line 2)) (0.9.0)\n",
      "Requirement already satisfied: h5py<2.11.0,>=2.10.0 in /usr/local/lib/python3.6/dist-packages (from tensorflow==2.*->-r requirements.txt (line 2)) (2.10.0)\n",
      "Requirement already satisfied: keras-preprocessing>=1.1.0 in /usr/local/lib/python3.6/dist-packages (from tensorflow==2.*->-r requirements.txt (line 2)) (1.1.0)\n",
      "Requirement already satisfied: astunparse==1.6.3 in /usr/local/lib/python3.6/dist-packages (from tensorflow==2.*->-r requirements.txt (line 2)) (1.6.3)\n",
      "Requirement already satisfied: grpcio>=1.8.6 in /usr/local/lib/python3.6/dist-packages (from tensorflow==2.*->-r requirements.txt (line 2)) (1.28.1)\n",
      "Requirement already satisfied: setuptools in /usr/local/lib/python3.6/dist-packages (from foolbox==1.8.0->-r requirements.txt (line 3)) (46.1.3)\n",
      "Requirement already satisfied: requests in /usr/local/lib/python3.6/dist-packages (from foolbox==1.8.0->-r requirements.txt (line 3)) (2.21.0)\n",
      "Requirement already satisfied: GitPython in /usr/local/lib/python3.6/dist-packages (from foolbox==1.8.0->-r requirements.txt (line 3)) (3.1.1)\n",
      "Requirement already satisfied: werkzeug>=0.11.15 in /usr/local/lib/python3.6/dist-packages (from tensorboard<2.3.0,>=2.2.0->tensorflow==2.*->-r requirements.txt (line 2)) (1.0.1)\n",
      "Requirement already satisfied: tensorboard-plugin-wit>=1.6.0 in /usr/local/lib/python3.6/dist-packages (from tensorboard<2.3.0,>=2.2.0->tensorflow==2.*->-r requirements.txt (line 2)) (1.6.0.post3)\n",
      "Requirement already satisfied: google-auth-oauthlib<0.5,>=0.4.1 in /usr/local/lib/python3.6/dist-packages (from tensorboard<2.3.0,>=2.2.0->tensorflow==2.*->-r requirements.txt (line 2)) (0.4.1)\n",
      "Requirement already satisfied: google-auth<2,>=1.6.3 in /usr/local/lib/python3.6/dist-packages (from tensorboard<2.3.0,>=2.2.0->tensorflow==2.*->-r requirements.txt (line 2)) (1.7.2)\n",
      "Requirement already satisfied: markdown>=2.6.8 in /usr/local/lib/python3.6/dist-packages (from tensorboard<2.3.0,>=2.2.0->tensorflow==2.*->-r requirements.txt (line 2)) (3.2.1)\n",
      "Requirement already satisfied: chardet<3.1.0,>=3.0.2 in /usr/local/lib/python3.6/dist-packages (from requests->foolbox==1.8.0->-r requirements.txt (line 3)) (3.0.4)\n",
      "Requirement already satisfied: certifi>=2017.4.17 in /usr/local/lib/python3.6/dist-packages (from requests->foolbox==1.8.0->-r requirements.txt (line 3)) (2020.4.5.1)\n",
      "Requirement already satisfied: urllib3<1.25,>=1.21.1 in /usr/local/lib/python3.6/dist-packages (from requests->foolbox==1.8.0->-r requirements.txt (line 3)) (1.24.3)\n",
      "Requirement already satisfied: idna<2.9,>=2.5 in /usr/local/lib/python3.6/dist-packages (from requests->foolbox==1.8.0->-r requirements.txt (line 3)) (2.8)\n",
      "Requirement already satisfied: gitdb<5,>=4.0.1 in /usr/local/lib/python3.6/dist-packages (from GitPython->foolbox==1.8.0->-r requirements.txt (line 3)) (4.0.4)\n",
      "Requirement already satisfied: requests-oauthlib>=0.7.0 in /usr/local/lib/python3.6/dist-packages (from google-auth-oauthlib<0.5,>=0.4.1->tensorboard<2.3.0,>=2.2.0->tensorflow==2.*->-r requirements.txt (line 2)) (1.3.0)\n",
      "Requirement already satisfied: rsa<4.1,>=3.1.4 in /usr/local/lib/python3.6/dist-packages (from google-auth<2,>=1.6.3->tensorboard<2.3.0,>=2.2.0->tensorflow==2.*->-r requirements.txt (line 2)) (4.0)\n",
      "Requirement already satisfied: cachetools<3.2,>=2.0.0 in /usr/local/lib/python3.6/dist-packages (from google-auth<2,>=1.6.3->tensorboard<2.3.0,>=2.2.0->tensorflow==2.*->-r requirements.txt (line 2)) (3.1.1)\n",
      "Requirement already satisfied: pyasn1-modules>=0.2.1 in /usr/local/lib/python3.6/dist-packages (from google-auth<2,>=1.6.3->tensorboard<2.3.0,>=2.2.0->tensorflow==2.*->-r requirements.txt (line 2)) (0.2.8)\n",
      "Requirement already satisfied: smmap<4,>=3.0.1 in /usr/local/lib/python3.6/dist-packages (from gitdb<5,>=4.0.1->GitPython->foolbox==1.8.0->-r requirements.txt (line 3)) (3.0.2)\n",
      "Requirement already satisfied: oauthlib>=3.0.0 in /usr/local/lib/python3.6/dist-packages (from requests-oauthlib>=0.7.0->google-auth-oauthlib<0.5,>=0.4.1->tensorboard<2.3.0,>=2.2.0->tensorflow==2.*->-r requirements.txt (line 2)) (3.1.0)\n",
      "Requirement already satisfied: pyasn1>=0.1.3 in /usr/local/lib/python3.6/dist-packages (from rsa<4.1,>=3.1.4->google-auth<2,>=1.6.3->tensorboard<2.3.0,>=2.2.0->tensorflow==2.*->-r requirements.txt (line 2)) (0.4.8)\n"
     ],
     "name": "stdout"
    }
   ]
  },
  {
   "cell_type": "markdown",
   "metadata": {
    "id": "dbL-vZspusDw",
    "colab_type": "text"
   },
   "source": [
    "# RUN ATTACKS\n",
    "\n",
    "\n",
    "on these two models\n",
    "\n"
   ]
  },
  {
   "cell_type": "code",
   "metadata": {
    "id": "5NjEmuJhxFKD",
    "colab_type": "code",
    "colab": {
     "base_uri": "https://localhost:8080/",
     "height": 34
    },
    "outputId": "1d71bbb1-5f97-464e-8aa8-a7697a8be1c0"
   },
   "source": [
    "import numpy as np\n",
    "import matplotlib.pyplot as plt\n",
    "# %tensorflow_version 1.x\n",
    "\n",
    "import tensorflow as tf\n",
    "from tensorflow import keras"
   ],
   "execution_count": 3,
   "outputs": []
  },
  {
   "cell_type": "code",
   "metadata": {
    "id": "eGtvxl59xOTa",
    "colab_type": "code",
    "colab": {
     "base_uri": "https://localhost:8080/",
     "height": 34
    },
    "outputId": "b29484ee-1dc4-4f5f-b239-b977cc224016"
   },
   "source": [
    "tf.__version__"
   ],
   "execution_count": 4,
   "outputs": [
    {
     "data": {
      "text/plain": "'2.1.0'"
     },
     "execution_count": 4,
     "metadata": {},
     "output_type": "execute_result"
    }
   ]
  },
  {
   "cell_type": "code",
   "metadata": {
    "id": "2AwXLZQrxPtn",
    "colab_type": "code",
    "colab": {
     "base_uri": "https://localhost:8080/",
     "height": 190
    },
    "outputId": "d3dc3bad-59c1-4264-93a1-1e148cfb6393"
   },
   "source": [
    "\n",
    "import foolbox\n",
    "\n",
    "# Import DAE_ANN\n",
    "\n",
    "DAE_ANN = keras.models.load_model('./Models/denoising_autoencoder_ann.h5')\n",
    "\n",
    "fmodel = foolbox.models.TensorFlowModel.from_keras(DAE_ANN, bounds=(0, 1))\n",
    "attack_criterion = foolbox.criteria.Misclassification()\n",
    "attack_fn = foolbox.attacks.GradientSignAttack(fmodel, criterion=attack_criterion, distance=foolbox.distances.Linfinity)\n"
   ],
   "execution_count": 8,
   "outputs": [
    {
     "output_type": "stream",
     "text": [
      "WARNING:tensorflow:From /tensorflow-1.15.2/python3.6/tensorflow_core/python/ops/resource_variable_ops.py:1630: calling BaseResourceVariable.__init__ (from tensorflow.python.ops.resource_variable_ops) with constraint is deprecated and will be removed in a future version.\n",
      "Instructions for updating:\n",
      "If using Keras pass *_constraint arguments to layers.\n",
      "WARNING:tensorflow:From /usr/local/lib/python3.6/dist-packages/foolbox/models/tensorflow.py:115: The name tf.keras.backend.get_session is deprecated. Please use tf.compat.v1.keras.backend.get_session instead.\n",
      "\n",
      "WARNING:tensorflow:From /usr/local/lib/python3.6/dist-packages/foolbox/models/tensorflow.py:116: The name tf.placeholder is deprecated. Please use tf.compat.v1.placeholder instead.\n",
      "\n",
      "WARNING:tensorflow:From /usr/local/lib/python3.6/dist-packages/foolbox/models/tensorflow.py:45: The name tf.get_default_session is deprecated. Please use tf.compat.v1.get_default_session instead.\n",
      "\n"
     ],
     "name": "stdout"
    }
   ]
  },
  {
   "cell_type": "code",
   "metadata": {
    "id": "5UG1zCVcy9mf",
    "colab_type": "code",
    "colab": {
     "base_uri": "https://localhost:8080/",
     "height": 51
    },
    "outputId": "212827cb-2cf7-4636-fcd5-f0128777c185"
   },
   "source": [
    "fashion_mnist = keras.datasets.fashion_mnist\n",
    "(train_images, train_labels), (test_images, test_labels) = fashion_mnist.load_data()\n",
    "\n",
    "class_names = ['T-shirt/top', 'Trouser', 'Pullover', 'Dress', 'Coat', \n",
    "               'Sandal', 'Shirt', 'Sneaker', 'Bag', 'Ankle boot']\n",
    "train_images = train_images/255.0\n",
    "test_images = test_images/255.0\n",
    "train_images = train_images.reshape(len(train_images),28,28,1)\n",
    "test_images = test_images.reshape(len(test_images),28,28,1)\n",
    "test_loss, test_acc = DAE_ANN.evaluate(test_images, test_labels)\n",
    "print('Model accuracy based on test data:', test_acc)\n",
    "del fashion_mnist"
   ],
   "execution_count": 9,
   "outputs": [
    {
     "output_type": "stream",
     "text": [
      "10000/10000 [==============================] - 2s 224us/sample - loss: 0.3759 - acc: 0.8662\n",
      "Model accuracy based on test data: 0.8662\n"
     ],
     "name": "stdout"
    }
   ]
  },
  {
   "cell_type": "code",
   "metadata": {
    "id": "ktT9zfy4zyOO",
    "colab_type": "code",
    "colab": {
     "base_uri": "https://localhost:8080/",
     "height": 425
    },
    "outputId": "465fe30b-51fc-45f9-a0e2-7c96a7001ded"
   },
   "source": [
    "from utils.adversarial_utils import generate_adversarial_data\n",
    "x_images = train_images[0:6000, :]\n",
    "print(x_images.shape)\n",
    "(x_train_adv_images, x_train_adv_perturbs, x_train_labels) = \\\n",
    "generate_adversarial_data(original_images = x_images, predictions = DAE_ANN.predict(x_images), attack_fn = attack_fn)\n"
   ],
   "execution_count": 13,
   "outputs": [
    {
     "output_type": "stream",
     "text": [
      "(6000, 28, 28, 1)\n"
     ],
     "name": "stdout"
    },
    {
     "output_type": "error",
     "ename": "ValueError",
     "evalue": "ignored",
     "traceback": [
      "\u001B[0;31m---------------------------------------------------------------------------\u001B[0m",
      "\u001B[0;31mValueError\u001B[0m                                Traceback (most recent call last)",
      "\u001B[0;32m<ipython-input-13-9af276d648bc>\u001B[0m in \u001B[0;36m<module>\u001B[0;34m()\u001B[0m\n\u001B[1;32m      2\u001B[0m \u001B[0mx_images\u001B[0m \u001B[0;34m=\u001B[0m \u001B[0mtrain_images\u001B[0m\u001B[0;34m[\u001B[0m\u001B[0;36m0\u001B[0m\u001B[0;34m:\u001B[0m\u001B[0;36m6000\u001B[0m\u001B[0;34m,\u001B[0m \u001B[0;34m:\u001B[0m\u001B[0;34m]\u001B[0m\u001B[0;34m\u001B[0m\u001B[0;34m\u001B[0m\u001B[0m\n\u001B[1;32m      3\u001B[0m \u001B[0mprint\u001B[0m\u001B[0;34m(\u001B[0m\u001B[0mx_images\u001B[0m\u001B[0;34m.\u001B[0m\u001B[0mshape\u001B[0m\u001B[0;34m)\u001B[0m\u001B[0;34m\u001B[0m\u001B[0;34m\u001B[0m\u001B[0m\n\u001B[0;32m----> 4\u001B[0;31m \u001B[0;34m(\u001B[0m\u001B[0mx_train_adv_images\u001B[0m\u001B[0;34m,\u001B[0m \u001B[0mx_train_adv_perturbs\u001B[0m\u001B[0;34m,\u001B[0m \u001B[0mx_train_labels\u001B[0m\u001B[0;34m)\u001B[0m \u001B[0;34m=\u001B[0m \u001B[0mgenerate_adversarial_data\u001B[0m\u001B[0;34m(\u001B[0m\u001B[0moriginal_images\u001B[0m \u001B[0;34m=\u001B[0m \u001B[0mx_images\u001B[0m\u001B[0;34m,\u001B[0m \u001B[0mpredictions\u001B[0m \u001B[0;34m=\u001B[0m \u001B[0mDAE_ANN\u001B[0m\u001B[0;34m.\u001B[0m\u001B[0mpredict\u001B[0m\u001B[0;34m(\u001B[0m\u001B[0mx_images\u001B[0m\u001B[0;34m)\u001B[0m\u001B[0;34m,\u001B[0m \u001B[0mattack_fn\u001B[0m \u001B[0;34m=\u001B[0m \u001B[0mattack_fn\u001B[0m\u001B[0;34m)\u001B[0m\u001B[0;34m\u001B[0m\u001B[0;34m\u001B[0m\u001B[0m\n\u001B[0m",
      "\u001B[0;32m/content/gdrive/My Drive/ColabFiles/AdversarialAttacks/utils/adversarial_utils.py\u001B[0m in \u001B[0;36mgenerate_adversarial_data\u001B[0;34m(original_images, predictions, attack_fn, verbose)\u001B[0m\n\u001B[1;32m     46\u001B[0m         \u001B[0;32mif\u001B[0m \u001B[0;34m(\u001B[0m\u001B[0mx_adv\u001B[0m \u001B[0;32mis\u001B[0m \u001B[0;32mnot\u001B[0m \u001B[0;32mNone\u001B[0m\u001B[0;34m)\u001B[0m \u001B[0;32mand\u001B[0m \u001B[0;34m(\u001B[0m\u001B[0mx_adv\u001B[0m\u001B[0;34m.\u001B[0m\u001B[0mimage\u001B[0m \u001B[0;32mis\u001B[0m \u001B[0;32mnot\u001B[0m \u001B[0;32mNone\u001B[0m\u001B[0;34m)\u001B[0m\u001B[0;34m:\u001B[0m\u001B[0;34m\u001B[0m\u001B[0;34m\u001B[0m\u001B[0m\n\u001B[1;32m     47\u001B[0m             \u001B[0mx_adv_image\u001B[0m \u001B[0;34m=\u001B[0m \u001B[0mx_adv\u001B[0m\u001B[0;34m.\u001B[0m\u001B[0mimage\u001B[0m\u001B[0;34m\u001B[0m\u001B[0;34m\u001B[0m\u001B[0m\n\u001B[0;32m---> 48\u001B[0;31m             \u001B[0madv_images\u001B[0m \u001B[0;34m=\u001B[0m \u001B[0mnp\u001B[0m\u001B[0;34m.\u001B[0m\u001B[0mappend\u001B[0m\u001B[0;34m(\u001B[0m\u001B[0madv_images\u001B[0m\u001B[0;34m,\u001B[0m \u001B[0mnp\u001B[0m\u001B[0;34m.\u001B[0m\u001B[0mexpand_dims\u001B[0m\u001B[0;34m(\u001B[0m\u001B[0mx_adv_image\u001B[0m\u001B[0;34m,\u001B[0m \u001B[0maxis\u001B[0m\u001B[0;34m=\u001B[0m\u001B[0;36m0\u001B[0m\u001B[0;34m)\u001B[0m\u001B[0;34m,\u001B[0m \u001B[0maxis\u001B[0m\u001B[0;34m=\u001B[0m\u001B[0;36m0\u001B[0m\u001B[0;34m)\u001B[0m\u001B[0;34m\u001B[0m\u001B[0;34m\u001B[0m\u001B[0m\n\u001B[0m\u001B[1;32m     49\u001B[0m             \u001B[0mx_labels\u001B[0m \u001B[0;34m=\u001B[0m \u001B[0mnp\u001B[0m\u001B[0;34m.\u001B[0m\u001B[0mappend\u001B[0m\u001B[0;34m(\u001B[0m\u001B[0mx_labels\u001B[0m\u001B[0;34m,\u001B[0m \u001B[0my\u001B[0m\u001B[0;34m)\u001B[0m\u001B[0;34m\u001B[0m\u001B[0;34m\u001B[0m\u001B[0m\n\u001B[1;32m     50\u001B[0m \u001B[0;34m\u001B[0m\u001B[0m\n",
      "\u001B[0;32m<__array_function__ internals>\u001B[0m in \u001B[0;36mappend\u001B[0;34m(*args, **kwargs)\u001B[0m\n",
      "\u001B[0;32m/usr/local/lib/python3.6/dist-packages/numpy/lib/function_base.py\u001B[0m in \u001B[0;36mappend\u001B[0;34m(arr, values, axis)\u001B[0m\n\u001B[1;32m   4691\u001B[0m         \u001B[0mvalues\u001B[0m \u001B[0;34m=\u001B[0m \u001B[0mravel\u001B[0m\u001B[0;34m(\u001B[0m\u001B[0mvalues\u001B[0m\u001B[0;34m)\u001B[0m\u001B[0;34m\u001B[0m\u001B[0;34m\u001B[0m\u001B[0m\n\u001B[1;32m   4692\u001B[0m         \u001B[0maxis\u001B[0m \u001B[0;34m=\u001B[0m \u001B[0marr\u001B[0m\u001B[0;34m.\u001B[0m\u001B[0mndim\u001B[0m\u001B[0;34m-\u001B[0m\u001B[0;36m1\u001B[0m\u001B[0;34m\u001B[0m\u001B[0;34m\u001B[0m\u001B[0m\n\u001B[0;32m-> 4693\u001B[0;31m     \u001B[0;32mreturn\u001B[0m \u001B[0mconcatenate\u001B[0m\u001B[0;34m(\u001B[0m\u001B[0;34m(\u001B[0m\u001B[0marr\u001B[0m\u001B[0;34m,\u001B[0m \u001B[0mvalues\u001B[0m\u001B[0;34m)\u001B[0m\u001B[0;34m,\u001B[0m \u001B[0maxis\u001B[0m\u001B[0;34m=\u001B[0m\u001B[0maxis\u001B[0m\u001B[0;34m)\u001B[0m\u001B[0;34m\u001B[0m\u001B[0;34m\u001B[0m\u001B[0m\n\u001B[0m\u001B[1;32m   4694\u001B[0m \u001B[0;34m\u001B[0m\u001B[0m\n\u001B[1;32m   4695\u001B[0m \u001B[0;34m\u001B[0m\u001B[0m\n",
      "\u001B[0;32m<__array_function__ internals>\u001B[0m in \u001B[0;36mconcatenate\u001B[0;34m(*args, **kwargs)\u001B[0m\n",
      "\u001B[0;31mValueError\u001B[0m: all the input arrays must have same number of dimensions, but the array at index 0 has 3 dimension(s) and the array at index 1 has 4 dimension(s)"
     ]
    }
   ]
  }
 ]
}